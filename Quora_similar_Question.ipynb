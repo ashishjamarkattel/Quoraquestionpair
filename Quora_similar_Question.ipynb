{
 "cells": [
  {
   "cell_type": "code",
   "execution_count": 2,
   "id": "b63564c4",
   "metadata": {},
   "outputs": [],
   "source": [
    "import pandas as pd\n",
    "import numpy as np\n",
    "import sklearn\n",
    "import seaborn as sns\n",
    "import matplotlib.pyplot as plt\n",
    "import bs4\n",
    "from bs4 import BeautifulSoup\n",
    "import re\n",
    "import nltk\n",
    "from nltk.stem import PorterStemmer\n",
    "from nltk.corpus import stopwords\n",
    "# from wordcloud import WordCloud, STOPWORDS\n",
    "from os import path\n",
    "from PIL import Image\n"
   ]
  },
  {
   "cell_type": "markdown",
   "id": "afacbac5",
   "metadata": {},
   "source": [
    "# Quora Question pair similarity\n",
    "\n",
    "## Problem Statement\n",
    " \n",
    "    . Identify which question similarity  \n",
    "    . Our task is to find if question asked is dublicate or not.\n",
    "    . Hence can help business to make good quality of user experience.\n",
    "    \n",
    "    \n",
    "## Constrain\n",
    "\n",
    "    . Prediction can take time- No time latency \n",
    "    . Error must be less i.e could ruin user experience.\n",
    "    \n",
    "    \n",
    "## Mapping Problem \n",
    "\n",
    "    . It is 2 way classification i.e we have to predict either question is simiar or not.\n",
    "    . Confusion Matrix is binary.\n",
    "    . Since it is binary classification problem, log loss can be best form of error classification.\n",
    "    \n",
    "    "
   ]
  },
  {
   "cell_type": "code",
   "execution_count": 2,
   "id": "cb7c7a40",
   "metadata": {},
   "outputs": [
    {
     "name": "stdout",
     "output_type": "stream",
     "text": [
      "Number of data points : (404290, 6)\n"
     ]
    }
   ],
   "source": [
    "# reading the csv file\n",
    "\n",
    "df = pd.read_csv(\"train.csv\")\n",
    "print(\"Number of data points :\", df.shape)\n",
    "# There are 6 column in the data"
   ]
  },
  {
   "cell_type": "code",
   "execution_count": 3,
   "id": "5cdb729e",
   "metadata": {},
   "outputs": [
    {
     "data": {
      "text/html": [
       "<div>\n",
       "<style scoped>\n",
       "    .dataframe tbody tr th:only-of-type {\n",
       "        vertical-align: middle;\n",
       "    }\n",
       "\n",
       "    .dataframe tbody tr th {\n",
       "        vertical-align: top;\n",
       "    }\n",
       "\n",
       "    .dataframe thead th {\n",
       "        text-align: right;\n",
       "    }\n",
       "</style>\n",
       "<table border=\"1\" class=\"dataframe\">\n",
       "  <thead>\n",
       "    <tr style=\"text-align: right;\">\n",
       "      <th></th>\n",
       "      <th>id</th>\n",
       "      <th>qid1</th>\n",
       "      <th>qid2</th>\n",
       "      <th>question1</th>\n",
       "      <th>question2</th>\n",
       "      <th>is_duplicate</th>\n",
       "    </tr>\n",
       "  </thead>\n",
       "  <tbody>\n",
       "    <tr>\n",
       "      <th>0</th>\n",
       "      <td>0</td>\n",
       "      <td>1</td>\n",
       "      <td>2</td>\n",
       "      <td>What is the step by step guide to invest in sh...</td>\n",
       "      <td>What is the step by step guide to invest in sh...</td>\n",
       "      <td>0</td>\n",
       "    </tr>\n",
       "    <tr>\n",
       "      <th>1</th>\n",
       "      <td>1</td>\n",
       "      <td>3</td>\n",
       "      <td>4</td>\n",
       "      <td>What is the story of Kohinoor (Koh-i-Noor) Dia...</td>\n",
       "      <td>What would happen if the Indian government sto...</td>\n",
       "      <td>0</td>\n",
       "    </tr>\n",
       "    <tr>\n",
       "      <th>2</th>\n",
       "      <td>2</td>\n",
       "      <td>5</td>\n",
       "      <td>6</td>\n",
       "      <td>How can I increase the speed of my internet co...</td>\n",
       "      <td>How can Internet speed be increased by hacking...</td>\n",
       "      <td>0</td>\n",
       "    </tr>\n",
       "    <tr>\n",
       "      <th>3</th>\n",
       "      <td>3</td>\n",
       "      <td>7</td>\n",
       "      <td>8</td>\n",
       "      <td>Why am I mentally very lonely? How can I solve...</td>\n",
       "      <td>Find the remainder when [math]23^{24}[/math] i...</td>\n",
       "      <td>0</td>\n",
       "    </tr>\n",
       "    <tr>\n",
       "      <th>4</th>\n",
       "      <td>4</td>\n",
       "      <td>9</td>\n",
       "      <td>10</td>\n",
       "      <td>Which one dissolve in water quikly sugar, salt...</td>\n",
       "      <td>Which fish would survive in salt water?</td>\n",
       "      <td>0</td>\n",
       "    </tr>\n",
       "  </tbody>\n",
       "</table>\n",
       "</div>"
      ],
      "text/plain": [
       "   id  qid1  qid2                                          question1  \\\n",
       "0   0     1     2  What is the step by step guide to invest in sh...   \n",
       "1   1     3     4  What is the story of Kohinoor (Koh-i-Noor) Dia...   \n",
       "2   2     5     6  How can I increase the speed of my internet co...   \n",
       "3   3     7     8  Why am I mentally very lonely? How can I solve...   \n",
       "4   4     9    10  Which one dissolve in water quikly sugar, salt...   \n",
       "\n",
       "                                           question2  is_duplicate  \n",
       "0  What is the step by step guide to invest in sh...             0  \n",
       "1  What would happen if the Indian government sto...             0  \n",
       "2  How can Internet speed be increased by hacking...             0  \n",
       "3  Find the remainder when [math]23^{24}[/math] i...             0  \n",
       "4            Which fish would survive in salt water?             0  "
      ]
     },
     "execution_count": 3,
     "metadata": {},
     "output_type": "execute_result"
    }
   ],
   "source": [
    "df.head()"
   ]
  },
  {
   "cell_type": "code",
   "execution_count": 48,
   "id": "33d24354",
   "metadata": {},
   "outputs": [
    {
     "name": "stdout",
     "output_type": "stream",
     "text": [
      "<class 'pandas.core.frame.DataFrame'>\n",
      "RangeIndex: 404290 entries, 0 to 404289\n",
      "Data columns (total 6 columns):\n",
      " #   Column        Non-Null Count   Dtype \n",
      "---  ------        --------------   ----- \n",
      " 0   id            404290 non-null  int64 \n",
      " 1   qid1          404290 non-null  int64 \n",
      " 2   qid2          404290 non-null  int64 \n",
      " 3   question1     404289 non-null  object\n",
      " 4   question2     404288 non-null  object\n",
      " 5   is_duplicate  404290 non-null  int64 \n",
      "dtypes: int64(4), object(2)\n",
      "memory usage: 18.5+ MB\n"
     ]
    }
   ],
   "source": [
    "df.info()\n"
   ]
  },
  {
   "cell_type": "markdown",
   "id": "d8b1a6ac",
   "metadata": {},
   "source": [
    "## FOR question1\n",
    "\n",
    "Since question1 is the text data, possible way to featurize the data is by using \n",
    "\n",
    "    [1] Bags of words.\n",
    "    [2] Tfidf.\n",
    "    [3] Word2Vec.\n",
    "    [4] Responce Coding.\n",
    "and average word2vec, average tfidf etc.."
   ]
  },
  {
   "cell_type": "code",
   "execution_count": 49,
   "id": "b4b4ebad",
   "metadata": {},
   "outputs": [
    {
     "name": "stdout",
     "output_type": "stream",
     "text": [
      "Total unique question in question1 is :  290654\n",
      "The freq of question that occurs most frequently are : \n",
      "8461     50\n",
      "14110    48\n",
      "1749     47\n",
      "20628    47\n",
      "25984    47\n",
      "Name: qid1, dtype: int64\n",
      "\n",
      "\n",
      "Question that occured most frequently is : \n",
      "**************************************************\n",
      "How do I improve my English speaking?\n",
      "How does the ban on 500 and 1000 rupee notes helps to identify black money and corruption?\n",
      "How can changing 500 and 1000 rupee notes end the black money in India?\n",
      "What should I do to earn money online?\n",
      "How do I improve my English language?\n"
     ]
    }
   ],
   "source": [
    "#unique question in quest1\n",
    "# since question have id \n",
    "unique_ques1 = df.qid1.value_counts()\n",
    "print(\"Total unique question in question1 is : \",len(unique_ques1))\n",
    "print(\"The freq of question that occurs most frequently are : \")\n",
    "print(unique_ques1.head())\n",
    "print(\"\\n\")\n",
    "print(\"Question that occured most frequently is : \")\n",
    "print(\"*\"*50)\n",
    "for idx in unique_ques1.head().index:\n",
    "    ques = df[df.qid1==idx][\"question1\"].iloc[0]\n",
    "    print(ques)\n",
    "    \n"
   ]
  },
  {
   "cell_type": "code",
   "execution_count": 50,
   "id": "f530c290",
   "metadata": {},
   "outputs": [
    {
     "name": "stdout",
     "output_type": "stream",
     "text": [
      "There are total of 1 NUll values in question One \n",
      "Number of Question that matches id with nan value question in question1 is  0\n",
      "The NUll Valued  question1 is : \n"
     ]
    },
    {
     "data": {
      "text/html": [
       "<div>\n",
       "<style scoped>\n",
       "    .dataframe tbody tr th:only-of-type {\n",
       "        vertical-align: middle;\n",
       "    }\n",
       "\n",
       "    .dataframe tbody tr th {\n",
       "        vertical-align: top;\n",
       "    }\n",
       "\n",
       "    .dataframe thead th {\n",
       "        text-align: right;\n",
       "    }\n",
       "</style>\n",
       "<table border=\"1\" class=\"dataframe\">\n",
       "  <thead>\n",
       "    <tr style=\"text-align: right;\">\n",
       "      <th></th>\n",
       "      <th>id</th>\n",
       "      <th>qid1</th>\n",
       "      <th>qid2</th>\n",
       "      <th>question1</th>\n",
       "      <th>question2</th>\n",
       "      <th>is_duplicate</th>\n",
       "    </tr>\n",
       "  </thead>\n",
       "  <tbody>\n",
       "    <tr>\n",
       "      <th>363362</th>\n",
       "      <td>363362</td>\n",
       "      <td>493340</td>\n",
       "      <td>493341</td>\n",
       "      <td>NaN</td>\n",
       "      <td>My Chinese name is Haichao Yu. What English na...</td>\n",
       "      <td>0</td>\n",
       "    </tr>\n",
       "  </tbody>\n",
       "</table>\n",
       "</div>"
      ],
      "text/plain": [
       "            id    qid1    qid2 question1  \\\n",
       "363362  363362  493340  493341       NaN   \n",
       "\n",
       "                                                question2  is_duplicate  \n",
       "363362  My Chinese name is Haichao Yu. What English na...             0  "
      ]
     },
     "execution_count": 50,
     "metadata": {},
     "output_type": "execute_result"
    }
   ],
   "source": [
    "# Check for NULL Values.\n",
    "print(\"There are total of {} NUll values in question One \".format(df[df.question1.isnull()].shape[0]))\n",
    "\n",
    "'''\n",
    "checking if any question with question1 nan id matches so that we can replace the nan value.\n",
    "'''\n",
    "print(\"Number of Question that matches id with nan value question in question1 is \",df[df.qid1==493340].shape[0]-1)\n",
    "print(\"The NUll Valued  question1 is : \")\n",
    "\n",
    "df[df.question1.isnull()]"
   ]
  },
  {
   "cell_type": "code",
   "execution_count": 51,
   "id": "47394d54",
   "metadata": {},
   "outputs": [],
   "source": [
    "# maximum  = -1\n",
    "# minimum = 10000000\n",
    "# for sent in df[\"question1\"]:\n",
    "#     minimum = min(minimum,len(sent.split(' ')))\n",
    "#     maximum = max(maximum,len(sent.split(' ')))\n",
    "# print(\"Minimum length of word in question1 = \",minimum)\n",
    "# print(\"Maximum lenght of word in question1 = \",maximum)"
   ]
  },
  {
   "cell_type": "markdown",
   "id": "72da4340",
   "metadata": {},
   "source": [
    "## For Question2"
   ]
  },
  {
   "cell_type": "code",
   "execution_count": 52,
   "id": "1565b3c9",
   "metadata": {},
   "outputs": [
    {
     "name": "stdout",
     "output_type": "stream",
     "text": [
      "Total unique question in question1 is :  290654\n",
      "The freq of question that occurs most frequently are : \n",
      "30782    120\n",
      "2559     115\n",
      "4044     100\n",
      "2561      71\n",
      "17978     66\n",
      "Name: qid2, dtype: int64\n",
      "\n",
      "\n",
      "Question that occured most frequently is : \n",
      "**************************************************\n",
      "If I link my Instagram account to my Facebook account, will my friends from Facebook be able to see the photos I post even if my Instagram account is private?\n",
      "Why do I not lose weight when I throw up?\n",
      "What are some ways to lose 25 pounds in one month?\n",
      "How can I make money online in India?\n",
      "What are some things new employees should know going into their first day at Audiovox?\n"
     ]
    }
   ],
   "source": [
    "#unique question in quest1\n",
    "# since question have id \n",
    "unique_ques2 = df.qid2.value_counts()\n",
    "print(\"Total unique question in question1 is : \",len(unique_ques1))\n",
    "print(\"The freq of question that occurs most frequently are : \")\n",
    "print(unique_ques2.head())\n",
    "print(\"\\n\")\n",
    "print(\"Question that occured most frequently is : \")\n",
    "print(\"*\"*50)\n",
    "for idx in unique_ques2.head().index:\n",
    "    ques = df[df.qid2==idx][\"question1\"].iloc[0]\n",
    "    print(ques)\n",
    "    \n"
   ]
  },
  {
   "cell_type": "code",
   "execution_count": 54,
   "id": "8edd5e2e",
   "metadata": {},
   "outputs": [],
   "source": [
    "# maximum  = -1\n",
    "# minimum = 10000000\n",
    "# for sent in df[\"question2\"]:\n",
    "#     minimum = min(minimum,len(sent.split(' ')))\n",
    "#     maximum = max(maximum,len(sent.split(' ')))\n",
    "# print(\"Minimum length of word in question2 = \",minimum)\n",
    "# print(\"Maximum lenght of word in question2 = \",maximum)\n"
   ]
  },
  {
   "cell_type": "code",
   "execution_count": 55,
   "id": "5aae286f",
   "metadata": {},
   "outputs": [
    {
     "name": "stdout",
     "output_type": "stream",
     "text": [
      "There are total of 2 NUll values in question One \n",
      "Number of Question that matches id with nan value question in question1 is  0\n",
      "The NUll Valued  question1 is : \n"
     ]
    },
    {
     "data": {
      "text/html": [
       "<div>\n",
       "<style scoped>\n",
       "    .dataframe tbody tr th:only-of-type {\n",
       "        vertical-align: middle;\n",
       "    }\n",
       "\n",
       "    .dataframe tbody tr th {\n",
       "        vertical-align: top;\n",
       "    }\n",
       "\n",
       "    .dataframe thead th {\n",
       "        text-align: right;\n",
       "    }\n",
       "</style>\n",
       "<table border=\"1\" class=\"dataframe\">\n",
       "  <thead>\n",
       "    <tr style=\"text-align: right;\">\n",
       "      <th></th>\n",
       "      <th>id</th>\n",
       "      <th>qid1</th>\n",
       "      <th>qid2</th>\n",
       "      <th>question1</th>\n",
       "      <th>question2</th>\n",
       "      <th>is_duplicate</th>\n",
       "    </tr>\n",
       "  </thead>\n",
       "  <tbody>\n",
       "    <tr>\n",
       "      <th>105780</th>\n",
       "      <td>105780</td>\n",
       "      <td>174363</td>\n",
       "      <td>174364</td>\n",
       "      <td>How can I develop android app?</td>\n",
       "      <td>NaN</td>\n",
       "      <td>0</td>\n",
       "    </tr>\n",
       "    <tr>\n",
       "      <th>201841</th>\n",
       "      <td>201841</td>\n",
       "      <td>303951</td>\n",
       "      <td>174364</td>\n",
       "      <td>How can I create an Android app?</td>\n",
       "      <td>NaN</td>\n",
       "      <td>0</td>\n",
       "    </tr>\n",
       "  </tbody>\n",
       "</table>\n",
       "</div>"
      ],
      "text/plain": [
       "            id    qid1    qid2                         question1 question2  \\\n",
       "105780  105780  174363  174364    How can I develop android app?       NaN   \n",
       "201841  201841  303951  174364  How can I create an Android app?       NaN   \n",
       "\n",
       "        is_duplicate  \n",
       "105780             0  \n",
       "201841             0  "
      ]
     },
     "execution_count": 55,
     "metadata": {},
     "output_type": "execute_result"
    }
   ],
   "source": [
    "# Check for NULL Values.\n",
    "print(\"There are total of {} NUll values in question One \".format(df[df.question2.isnull()].shape[0]))\n",
    "\n",
    "'''\n",
    "checking if any question with question1 nan id matches so that we can replace the nan value.\n",
    "'''\n",
    "print(\"Number of Question that matches id with nan value question in question1 is \",df[df.qid2==174364].shape[0]-2)\n",
    "print(\"The NUll Valued  question1 is : \")\n",
    "\n",
    "df[df.question2.isnull()]"
   ]
  },
  {
   "cell_type": "markdown",
   "id": "4c1e83c7",
   "metadata": {},
   "source": [
    "### Observation\n",
    "    . There are not much null value in field but question1 and question4 contains 1 and 2 null value respectively\n",
    "    . There are not much dimension in the data.\n",
    "    . The id,qid1,qid2 are not useful data as it provide not much to learn to our model\n",
    "    \n",
    "    \n",
    "# Data Analysis"
   ]
  },
  {
   "cell_type": "code",
   "execution_count": 56,
   "id": "988e7dce",
   "metadata": {},
   "outputs": [
    {
     "data": {
      "image/png": "[encoded data removed]",
      "text/plain": [
       "<Figure size 432x288 with 1 Axes>"
      ]
     },
     "metadata": {
      "needs_background": "light"
     },
     "output_type": "display_data"
    }
   ],
   "source": [
    "df.groupby(\"is_duplicate\")[\"id\"].count().plot.bar()\n",
    "plt.show()"
   ]
  },
  {
   "cell_type": "code",
   "execution_count": 57,
   "id": "28fc5ee4",
   "metadata": {},
   "outputs": [
    {
     "name": "stdout",
     "output_type": "stream",
     "text": [
      "There are 63.08021469737069 not  duplicate number where duplicate == 0 \n",
      "There are 36.91978530262931 duplicate number where duplicate == 1\n"
     ]
    }
   ],
   "source": [
    "total_data = df.shape[0]\n",
    "duplicate_number = df[df[\"is_duplicate\"]==0][\"is_duplicate\"].count()\n",
    "print(\"There are {} not  duplicate number where duplicate == 0 \".format((duplicate_number/total_data)*100))\n",
    "print(\"There are {} duplicate number where duplicate == 1\".format(100-(duplicate_number/total_data)*100))"
   ]
  },
  {
   "cell_type": "markdown",
   "id": "e46d9778",
   "metadata": {},
   "source": [
    "### Dublicate Data"
   ]
  },
  {
   "cell_type": "code",
   "execution_count": 58,
   "id": "7d3d0201",
   "metadata": {},
   "outputs": [
    {
     "name": "stdout",
     "output_type": "stream",
     "text": [
      "The number of dublicate question are 0\n"
     ]
    }
   ],
   "source": [
    "# check if there are any dublicate as dublicate is no use\n",
    "dublicated_data = df[[\"qid1\",\"qid2\",\"is_duplicate\"]].groupby([\"qid1\",\"qid2\"])\n",
    "print(\"The number of dublicate question are\",dublicated_data.count().shape[0]-df.shape[0])\n"
   ]
  },
  {
   "cell_type": "markdown",
   "id": "3f588394",
   "metadata": {},
   "source": [
    "### NULL Values\n",
    "\n",
    "    checking for NULL Values"
   ]
  },
  {
   "cell_type": "code",
   "execution_count": 59,
   "id": "6e777b3c",
   "metadata": {},
   "outputs": [
    {
     "name": "stdout",
     "output_type": "stream",
     "text": [
      "Total number of NUll values are 3\n"
     ]
    },
    {
     "data": {
      "text/html": [
       "<div>\n",
       "<style scoped>\n",
       "    .dataframe tbody tr th:only-of-type {\n",
       "        vertical-align: middle;\n",
       "    }\n",
       "\n",
       "    .dataframe tbody tr th {\n",
       "        vertical-align: top;\n",
       "    }\n",
       "\n",
       "    .dataframe thead th {\n",
       "        text-align: right;\n",
       "    }\n",
       "</style>\n",
       "<table border=\"1\" class=\"dataframe\">\n",
       "  <thead>\n",
       "    <tr style=\"text-align: right;\">\n",
       "      <th></th>\n",
       "      <th>id</th>\n",
       "      <th>qid1</th>\n",
       "      <th>qid2</th>\n",
       "      <th>question1</th>\n",
       "      <th>question2</th>\n",
       "      <th>is_duplicate</th>\n",
       "    </tr>\n",
       "  </thead>\n",
       "  <tbody>\n",
       "    <tr>\n",
       "      <th>105780</th>\n",
       "      <td>105780</td>\n",
       "      <td>174363</td>\n",
       "      <td>174364</td>\n",
       "      <td>How can I develop android app?</td>\n",
       "      <td>NaN</td>\n",
       "      <td>0</td>\n",
       "    </tr>\n",
       "    <tr>\n",
       "      <th>201841</th>\n",
       "      <td>201841</td>\n",
       "      <td>303951</td>\n",
       "      <td>174364</td>\n",
       "      <td>How can I create an Android app?</td>\n",
       "      <td>NaN</td>\n",
       "      <td>0</td>\n",
       "    </tr>\n",
       "    <tr>\n",
       "      <th>363362</th>\n",
       "      <td>363362</td>\n",
       "      <td>493340</td>\n",
       "      <td>493341</td>\n",
       "      <td>NaN</td>\n",
       "      <td>My Chinese name is Haichao Yu. What English na...</td>\n",
       "      <td>0</td>\n",
       "    </tr>\n",
       "  </tbody>\n",
       "</table>\n",
       "</div>"
      ],
      "text/plain": [
       "            id    qid1    qid2                         question1  \\\n",
       "105780  105780  174363  174364    How can I develop android app?   \n",
       "201841  201841  303951  174364  How can I create an Android app?   \n",
       "363362  363362  493340  493341                               NaN   \n",
       "\n",
       "                                                question2  is_duplicate  \n",
       "105780                                                NaN             0  \n",
       "201841                                                NaN             0  \n",
       "363362  My Chinese name is Haichao Yu. What English na...             0  "
      ]
     },
     "execution_count": 59,
     "metadata": {},
     "output_type": "execute_result"
    }
   ],
   "source": [
    "# removing the null values\n",
    "\n",
    "print(\"Total number of NUll values are\",df[df.isnull().any(1)].shape[0])\n",
    "df[df.isnull().any(1)]"
   ]
  },
  {
   "cell_type": "code",
   "execution_count": 60,
   "id": "0b6d41f2",
   "metadata": {},
   "outputs": [
    {
     "name": "stdout",
     "output_type": "stream",
     "text": [
      "Total number of NULL values after clean up is  0\n"
     ]
    }
   ],
   "source": [
    "# removing NUll values\n",
    "\n",
    "df = df[~df.isnull().any(1)]\n",
    "print(\"Total number of NULL values after clean up is \",df[df.isnull().any(1)].shape[0])"
   ]
  },
  {
   "cell_type": "markdown",
   "id": "c512bb49",
   "metadata": {},
   "source": [
    "## Feature Engineering \n",
    "\n",
    "    . Some of the feature might be similarity between 2 sentences.\n",
    "    . Common words between 2 sentences this ensure more the words common more is the simlarity.\n",
    "    . frequency of word 1.\n",
    "    . frequency of word 2.\n",
    "    \n",
    "Output of one model can be also taken in consideration for the feature.<br>\n",
    "__for example__ :<br>\n",
    "we train the data for some model and generate the output and the output can be added to the feature which is again trained to get final output."
   ]
  },
  {
   "cell_type": "code",
   "execution_count": 61,
   "id": "47557a55",
   "metadata": {},
   "outputs": [],
   "source": [
    "# frequency of word 1\n",
    "df[\"freq1\"] = df.groupby(\"qid1\")[\"qid1\"].transform(\"count\")\n",
    "# frequncy of word 2\n",
    "df[\"freq2\"] = df.groupby(\"qid2\")[\"qid2\"].transform(\"count\")\n"
   ]
  },
  {
   "cell_type": "code",
   "execution_count": 62,
   "id": "220029d3",
   "metadata": {},
   "outputs": [
    {
     "data": {
      "text/html": [
       "<div>\n",
       "<style scoped>\n",
       "    .dataframe tbody tr th:only-of-type {\n",
       "        vertical-align: middle;\n",
       "    }\n",
       "\n",
       "    .dataframe tbody tr th {\n",
       "        vertical-align: top;\n",
       "    }\n",
       "\n",
       "    .dataframe thead th {\n",
       "        text-align: right;\n",
       "    }\n",
       "</style>\n",
       "<table border=\"1\" class=\"dataframe\">\n",
       "  <thead>\n",
       "    <tr style=\"text-align: right;\">\n",
       "      <th></th>\n",
       "      <th>id</th>\n",
       "      <th>qid1</th>\n",
       "      <th>qid2</th>\n",
       "      <th>question1</th>\n",
       "      <th>question2</th>\n",
       "      <th>is_duplicate</th>\n",
       "      <th>freq1</th>\n",
       "      <th>freq2</th>\n",
       "      <th>common</th>\n",
       "    </tr>\n",
       "  </thead>\n",
       "  <tbody>\n",
       "    <tr>\n",
       "      <th>0</th>\n",
       "      <td>0</td>\n",
       "      <td>1</td>\n",
       "      <td>2</td>\n",
       "      <td>What is the step by step guide to invest in sh...</td>\n",
       "      <td>What is the step by step guide to invest in sh...</td>\n",
       "      <td>0</td>\n",
       "      <td>1</td>\n",
       "      <td>1</td>\n",
       "      <td>0.500000</td>\n",
       "    </tr>\n",
       "    <tr>\n",
       "      <th>1</th>\n",
       "      <td>1</td>\n",
       "      <td>3</td>\n",
       "      <td>4</td>\n",
       "      <td>What is the story of Kohinoor (Koh-i-Noor) Dia...</td>\n",
       "      <td>What would happen if the Indian government sto...</td>\n",
       "      <td>0</td>\n",
       "      <td>4</td>\n",
       "      <td>1</td>\n",
       "      <td>0.238095</td>\n",
       "    </tr>\n",
       "    <tr>\n",
       "      <th>2</th>\n",
       "      <td>2</td>\n",
       "      <td>5</td>\n",
       "      <td>6</td>\n",
       "      <td>How can I increase the speed of my internet co...</td>\n",
       "      <td>How can Internet speed be increased by hacking...</td>\n",
       "      <td>0</td>\n",
       "      <td>1</td>\n",
       "      <td>1</td>\n",
       "      <td>0.166667</td>\n",
       "    </tr>\n",
       "    <tr>\n",
       "      <th>3</th>\n",
       "      <td>3</td>\n",
       "      <td>7</td>\n",
       "      <td>8</td>\n",
       "      <td>Why am I mentally very lonely? How can I solve...</td>\n",
       "      <td>Find the remainder when [math]23^{24}[/math] i...</td>\n",
       "      <td>0</td>\n",
       "      <td>1</td>\n",
       "      <td>1</td>\n",
       "      <td>0.050000</td>\n",
       "    </tr>\n",
       "    <tr>\n",
       "      <th>4</th>\n",
       "      <td>4</td>\n",
       "      <td>9</td>\n",
       "      <td>10</td>\n",
       "      <td>Which one dissolve in water quikly sugar, salt...</td>\n",
       "      <td>Which fish would survive in salt water?</td>\n",
       "      <td>0</td>\n",
       "      <td>3</td>\n",
       "      <td>1</td>\n",
       "      <td>0.100000</td>\n",
       "    </tr>\n",
       "  </tbody>\n",
       "</table>\n",
       "</div>"
      ],
      "text/plain": [
       "   id  qid1  qid2                                          question1  \\\n",
       "0   0     1     2  What is the step by step guide to invest in sh...   \n",
       "1   1     3     4  What is the story of Kohinoor (Koh-i-Noor) Dia...   \n",
       "2   2     5     6  How can I increase the speed of my internet co...   \n",
       "3   3     7     8  Why am I mentally very lonely? How can I solve...   \n",
       "4   4     9    10  Which one dissolve in water quikly sugar, salt...   \n",
       "\n",
       "                                           question2  is_duplicate  freq1  \\\n",
       "0  What is the step by step guide to invest in sh...             0      1   \n",
       "1  What would happen if the Indian government sto...             0      4   \n",
       "2  How can Internet speed be increased by hacking...             0      1   \n",
       "3  Find the remainder when [math]23^{24}[/math] i...             0      1   \n",
       "4            Which fish would survive in salt water?             0      3   \n",
       "\n",
       "   freq2    common  \n",
       "0      1  0.500000  \n",
       "1      1  0.238095  \n",
       "2      1  0.166667  \n",
       "3      1  0.050000  \n",
       "4      1  0.100000  "
      ]
     },
     "execution_count": 62,
     "metadata": {},
     "output_type": "execute_result"
    }
   ],
   "source": [
    "# Similary words in question1 and question2\n",
    "def find_common_word(words):\n",
    "    \n",
    "    word1 = words[0].lower()\n",
    "    word2 = words[1].lower()\n",
    "    common = set()\n",
    "    w1 = word1.split(\" \")\n",
    "    w2 = word2.split(\" \")\n",
    "    common.update(w1)\n",
    "    common.update(w2)\n",
    "    if len(common) == len(w1)+len(w2):\n",
    "        return 0\n",
    "    else:\n",
    "        value = len(common) - (len(w1)+len(w2))\n",
    "        return abs(value)/(len(w1)+len(w2))\n",
    "    \n",
    "df[\"common\"] = df[[\"question1\",\"question2\"]].apply(find_common_word,axis=1)\n",
    "df.head()"
   ]
  },
  {
   "cell_type": "code",
   "execution_count": 63,
   "id": "7c9f4a74",
   "metadata": {},
   "outputs": [],
   "source": [
    "df.to_csv(\"df_fe_without_preprocessing_train.csv\", index=False)"
   ]
  },
  {
   "cell_type": "code",
   "execution_count": 64,
   "id": "3f0a6a91",
   "metadata": {},
   "outputs": [
    {
     "data": {
      "text/html": [
       "<div>\n",
       "<style scoped>\n",
       "    .dataframe tbody tr th:only-of-type {\n",
       "        vertical-align: middle;\n",
       "    }\n",
       "\n",
       "    .dataframe tbody tr th {\n",
       "        vertical-align: top;\n",
       "    }\n",
       "\n",
       "    .dataframe thead th {\n",
       "        text-align: right;\n",
       "    }\n",
       "</style>\n",
       "<table border=\"1\" class=\"dataframe\">\n",
       "  <thead>\n",
       "    <tr style=\"text-align: right;\">\n",
       "      <th></th>\n",
       "      <th>id</th>\n",
       "      <th>qid1</th>\n",
       "      <th>qid2</th>\n",
       "      <th>question1</th>\n",
       "      <th>question2</th>\n",
       "      <th>is_duplicate</th>\n",
       "      <th>freq1</th>\n",
       "      <th>freq2</th>\n",
       "      <th>common</th>\n",
       "    </tr>\n",
       "  </thead>\n",
       "  <tbody>\n",
       "    <tr>\n",
       "      <th>0</th>\n",
       "      <td>0</td>\n",
       "      <td>1</td>\n",
       "      <td>2</td>\n",
       "      <td>What is the step by step guide to invest in sh...</td>\n",
       "      <td>What is the step by step guide to invest in sh...</td>\n",
       "      <td>0</td>\n",
       "      <td>1</td>\n",
       "      <td>1</td>\n",
       "      <td>0.500000</td>\n",
       "    </tr>\n",
       "    <tr>\n",
       "      <th>1</th>\n",
       "      <td>1</td>\n",
       "      <td>3</td>\n",
       "      <td>4</td>\n",
       "      <td>What is the story of Kohinoor (Koh-i-Noor) Dia...</td>\n",
       "      <td>What would happen if the Indian government sto...</td>\n",
       "      <td>0</td>\n",
       "      <td>4</td>\n",
       "      <td>1</td>\n",
       "      <td>0.238095</td>\n",
       "    </tr>\n",
       "    <tr>\n",
       "      <th>2</th>\n",
       "      <td>2</td>\n",
       "      <td>5</td>\n",
       "      <td>6</td>\n",
       "      <td>How can I increase the speed of my internet co...</td>\n",
       "      <td>How can Internet speed be increased by hacking...</td>\n",
       "      <td>0</td>\n",
       "      <td>1</td>\n",
       "      <td>1</td>\n",
       "      <td>0.166667</td>\n",
       "    </tr>\n",
       "    <tr>\n",
       "      <th>3</th>\n",
       "      <td>3</td>\n",
       "      <td>7</td>\n",
       "      <td>8</td>\n",
       "      <td>Why am I mentally very lonely? How can I solve...</td>\n",
       "      <td>Find the remainder when [math]23^{24}[/math] i...</td>\n",
       "      <td>0</td>\n",
       "      <td>1</td>\n",
       "      <td>1</td>\n",
       "      <td>0.050000</td>\n",
       "    </tr>\n",
       "    <tr>\n",
       "      <th>4</th>\n",
       "      <td>4</td>\n",
       "      <td>9</td>\n",
       "      <td>10</td>\n",
       "      <td>Which one dissolve in water quikly sugar, salt...</td>\n",
       "      <td>Which fish would survive in salt water?</td>\n",
       "      <td>0</td>\n",
       "      <td>3</td>\n",
       "      <td>1</td>\n",
       "      <td>0.100000</td>\n",
       "    </tr>\n",
       "  </tbody>\n",
       "</table>\n",
       "</div>"
      ],
      "text/plain": [
       "   id  qid1  qid2                                          question1  \\\n",
       "0   0     1     2  What is the step by step guide to invest in sh...   \n",
       "1   1     3     4  What is the story of Kohinoor (Koh-i-Noor) Dia...   \n",
       "2   2     5     6  How can I increase the speed of my internet co...   \n",
       "3   3     7     8  Why am I mentally very lonely? How can I solve...   \n",
       "4   4     9    10  Which one dissolve in water quikly sugar, salt...   \n",
       "\n",
       "                                           question2  is_duplicate  freq1  \\\n",
       "0  What is the step by step guide to invest in sh...             0      1   \n",
       "1  What would happen if the Indian government sto...             0      4   \n",
       "2  How can Internet speed be increased by hacking...             0      1   \n",
       "3  Find the remainder when [math]23^{24}[/math] i...             0      1   \n",
       "4            Which fish would survive in salt water?             0      3   \n",
       "\n",
       "   freq2    common  \n",
       "0      1  0.500000  \n",
       "1      1  0.238095  \n",
       "2      1  0.166667  \n",
       "3      1  0.050000  \n",
       "4      1  0.100000  "
      ]
     },
     "execution_count": 64,
     "metadata": {},
     "output_type": "execute_result"
    }
   ],
   "source": [
    "df = pd.read_csv(\"df_fe_without_preprocessing_train.csv\")\n",
    "# df.drop(columns=[\"id\"],axis=1,inplace=True)\n",
    "df.head()"
   ]
  },
  {
   "cell_type": "markdown",
   "id": "16f20f04",
   "metadata": {},
   "source": [
    "## Distribution \n",
    "    \n",
    "    . Using Vilon plot to find the distribution.\n",
    "    . Using displot to understand distribution of data.\n",
    "    "
   ]
  },
  {
   "cell_type": "code",
   "execution_count": 65,
   "id": "c219650b",
   "metadata": {},
   "outputs": [
    {
     "name": "stderr",
     "output_type": "stream",
     "text": [
      "c:\\users\\dell\\appdata\\local\\programs\\python\\python39\\lib\\site-packages\\seaborn\\distributions.py:2557: FutureWarning: `distplot` is a deprecated function and will be removed in a future version. Please adapt your code to use either `displot` (a figure-level function with similar flexibility) or `histplot` (an axes-level function for histograms).\n",
      "  warnings.warn(msg, FutureWarning)\n",
      "c:\\users\\dell\\appdata\\local\\programs\\python\\python39\\lib\\site-packages\\seaborn\\distributions.py:2557: FutureWarning: `distplot` is a deprecated function and will be removed in a future version. Please adapt your code to use either `displot` (a figure-level function with similar flexibility) or `histplot` (an axes-level function for histograms).\n",
      "  warnings.warn(msg, FutureWarning)\n"
     ]
    },
    {
     "data": {
      "image/png": "[encoded data removed]",
      "text/plain": [
       "<Figure size 864x576 with 2 Axes>"
      ]
     },
     "metadata": {
      "needs_background": "light"
     },
     "output_type": "display_data"
    }
   ],
   "source": [
    "# plt.figure(figsize=(12,8))\n",
    "# sns.violinplot(x=\"is_duplicate\",y=\"common\",data=df[0:])\n",
    "plt.figure(figsize=(12, 8))\n",
    "\n",
    "plt.subplot(1,2,1)\n",
    "sns.violinplot(x = 'is_duplicate', y = 'common', data = df)\n",
    "\n",
    "plt.subplot(1,2,2)\n",
    "sns.distplot(x=df[df['is_duplicate'] == 1.0]['common'], label = \"1\", color = 'red')\n",
    "sns.distplot(x=df[df['is_duplicate'] == 0.0]['common'], label = \"0\" , color = 'blue' )\n",
    "plt.show()"
   ]
  },
  {
   "cell_type": "code",
   "execution_count": 66,
   "id": "0e5e95a2",
   "metadata": {},
   "outputs": [
    {
     "name": "stderr",
     "output_type": "stream",
     "text": [
      "c:\\users\\dell\\appdata\\local\\programs\\python\\python39\\lib\\site-packages\\seaborn\\distributions.py:2557: FutureWarning: `distplot` is a deprecated function and will be removed in a future version. Please adapt your code to use either `displot` (a figure-level function with similar flexibility) or `histplot` (an axes-level function for histograms).\n",
      "  warnings.warn(msg, FutureWarning)\n",
      "c:\\users\\dell\\appdata\\local\\programs\\python\\python39\\lib\\site-packages\\seaborn\\distributions.py:2557: FutureWarning: `distplot` is a deprecated function and will be removed in a future version. Please adapt your code to use either `displot` (a figure-level function with similar flexibility) or `histplot` (an axes-level function for histograms).\n",
      "  warnings.warn(msg, FutureWarning)\n"
     ]
    },
    {
     "data": {
      "text/plain": [
       "<AxesSubplot:xlabel='freq2', ylabel='Density'>"
      ]
     },
     "execution_count": 66,
     "metadata": {},
     "output_type": "execute_result"
    },
    {
     "data": {
      "image/png": "[encoded data removed]",
      "text/plain": [
       "<Figure size 864x576 with 1 Axes>"
      ]
     },
     "metadata": {
      "needs_background": "light"
     },
     "output_type": "display_data"
    }
   ],
   "source": [
    "plt.figure(figsize=(12,8))\n",
    "\n",
    "# plt.subplot(1,2,1)\n",
    "sns.distplot(df[df[\"is_duplicate\"]==0][\"freq1\"],label=\"1\")\n",
    "sns.distplot(df[df[\"is_duplicate\"]==1][\"freq2\"],label=\"0\")"
   ]
  },
  {
   "cell_type": "markdown",
   "id": "397a2d46",
   "metadata": {},
   "source": [
    "# Observation\n",
    "\n",
    "    . freq1 , freq2 donot help in seperation of the questions.\n",
    "    . while word share can be used as the best feature.\n",
    "    "
   ]
  },
  {
   "cell_type": "markdown",
   "id": "8bb05604",
   "metadata": {},
   "source": [
    "# Text Preprocessing\n",
    "\n",
    "    Removing the stop words.\n",
    "    Lemitization.\n",
    "    Uni-grams and bi-grams.\n",
    "    Removing HTML tags.\n",
    "    Removing special words.\n",
    "    Removing Numbers."
   ]
  },
  {
   "cell_type": "code",
   "execution_count": 67,
   "id": "23356039",
   "metadata": {},
   "outputs": [
    {
     "data": {
      "text/html": [
       "<div>\n",
       "<style scoped>\n",
       "    .dataframe tbody tr th:only-of-type {\n",
       "        vertical-align: middle;\n",
       "    }\n",
       "\n",
       "    .dataframe tbody tr th {\n",
       "        vertical-align: top;\n",
       "    }\n",
       "\n",
       "    .dataframe thead th {\n",
       "        text-align: right;\n",
       "    }\n",
       "</style>\n",
       "<table border=\"1\" class=\"dataframe\">\n",
       "  <thead>\n",
       "    <tr style=\"text-align: right;\">\n",
       "      <th></th>\n",
       "      <th>id</th>\n",
       "      <th>qid1</th>\n",
       "      <th>qid2</th>\n",
       "      <th>question1</th>\n",
       "      <th>question2</th>\n",
       "      <th>is_duplicate</th>\n",
       "      <th>freq1</th>\n",
       "      <th>freq2</th>\n",
       "      <th>common</th>\n",
       "    </tr>\n",
       "  </thead>\n",
       "  <tbody>\n",
       "    <tr>\n",
       "      <th>0</th>\n",
       "      <td>0</td>\n",
       "      <td>1</td>\n",
       "      <td>2</td>\n",
       "      <td>What is the step by step guide to invest in sh...</td>\n",
       "      <td>What is the step by step guide to invest in sh...</td>\n",
       "      <td>0</td>\n",
       "      <td>1</td>\n",
       "      <td>1</td>\n",
       "      <td>0.500000</td>\n",
       "    </tr>\n",
       "    <tr>\n",
       "      <th>1</th>\n",
       "      <td>1</td>\n",
       "      <td>3</td>\n",
       "      <td>4</td>\n",
       "      <td>What is the story of Kohinoor (Koh-i-Noor) Dia...</td>\n",
       "      <td>What would happen if the Indian government sto...</td>\n",
       "      <td>0</td>\n",
       "      <td>4</td>\n",
       "      <td>1</td>\n",
       "      <td>0.238095</td>\n",
       "    </tr>\n",
       "    <tr>\n",
       "      <th>2</th>\n",
       "      <td>2</td>\n",
       "      <td>5</td>\n",
       "      <td>6</td>\n",
       "      <td>How can I increase the speed of my internet co...</td>\n",
       "      <td>How can Internet speed be increased by hacking...</td>\n",
       "      <td>0</td>\n",
       "      <td>1</td>\n",
       "      <td>1</td>\n",
       "      <td>0.166667</td>\n",
       "    </tr>\n",
       "    <tr>\n",
       "      <th>3</th>\n",
       "      <td>3</td>\n",
       "      <td>7</td>\n",
       "      <td>8</td>\n",
       "      <td>Why am I mentally very lonely? How can I solve...</td>\n",
       "      <td>Find the remainder when [math]23^{24}[/math] i...</td>\n",
       "      <td>0</td>\n",
       "      <td>1</td>\n",
       "      <td>1</td>\n",
       "      <td>0.050000</td>\n",
       "    </tr>\n",
       "    <tr>\n",
       "      <th>4</th>\n",
       "      <td>4</td>\n",
       "      <td>9</td>\n",
       "      <td>10</td>\n",
       "      <td>Which one dissolve in water quikly sugar, salt...</td>\n",
       "      <td>Which fish would survive in salt water?</td>\n",
       "      <td>0</td>\n",
       "      <td>3</td>\n",
       "      <td>1</td>\n",
       "      <td>0.100000</td>\n",
       "    </tr>\n",
       "  </tbody>\n",
       "</table>\n",
       "</div>"
      ],
      "text/plain": [
       "   id  qid1  qid2                                          question1  \\\n",
       "0   0     1     2  What is the step by step guide to invest in sh...   \n",
       "1   1     3     4  What is the story of Kohinoor (Koh-i-Noor) Dia...   \n",
       "2   2     5     6  How can I increase the speed of my internet co...   \n",
       "3   3     7     8  Why am I mentally very lonely? How can I solve...   \n",
       "4   4     9    10  Which one dissolve in water quikly sugar, salt...   \n",
       "\n",
       "                                           question2  is_duplicate  freq1  \\\n",
       "0  What is the step by step guide to invest in sh...             0      1   \n",
       "1  What would happen if the Indian government sto...             0      4   \n",
       "2  How can Internet speed be increased by hacking...             0      1   \n",
       "3  Find the remainder when [math]23^{24}[/math] i...             0      1   \n",
       "4            Which fish would survive in salt water?             0      3   \n",
       "\n",
       "   freq2    common  \n",
       "0      1  0.500000  \n",
       "1      1  0.238095  \n",
       "2      1  0.166667  \n",
       "3      1  0.050000  \n",
       "4      1  0.100000  "
      ]
     },
     "execution_count": 67,
     "metadata": {},
     "output_type": "execute_result"
    }
   ],
   "source": [
    "df = pd.read_csv(\"df_fe_without_preprocessing_train.csv\")\n",
    "df.head()"
   ]
  },
  {
   "cell_type": "code",
   "execution_count": 68,
   "id": "89b53219",
   "metadata": {},
   "outputs": [],
   "source": [
    "stopword = stopwords.words(\"english\")\n",
    "stopword.remove(\"not\")\n",
    "stopword.remove(\"nor\")\n",
    "stopword.remove(\"no\")\n",
    "\n",
    "def preprocessing(x):\n",
    "    # removing url if any \n",
    "    sent = re.sub(r\"http\\S+\",\"\",x)\n",
    "    # removing html tags if any\n",
    "    sent = BeautifulSoup(x,\"lxml\").text\n",
    "    \n",
    "    # changing cann't to can not and similar thing \n",
    "    x = str(x).lower()\n",
    "    x = x.replace(\",000,000\", \"m\").replace(\",000\", \"k\").replace(\"′\", \"'\").replace(\"’\", \"'\")\\\n",
    "       .replace(\"won't\", \"will not\").replace(\"cannot\", \"can not\").replace(\"can't\", \"can not\")\\\n",
    "       .replace(\"n't\", \" not\").replace(\"what's\", \"what is\").replace(\"it's\", \"it is\")\\\n",
    "       .replace(\"'ve\", \" have\").replace(\"i'm\", \"i am\").replace(\"'re\", \" are\")\\\n",
    "       .replace(\"he's\", \"he is\").replace(\"she's\", \"she is\").replace(\"'s\", \" own\")\\\n",
    "       .replace(\"%\", \" percent \").replace(\"₹\", \" rupee \").replace(\"$\", \" dollar \")\\\n",
    "       .replace(\"€\", \" euro \").replace(\"'ll\", \" will\")\n",
    "    \n",
    "    # Removing numbers from the sentences\n",
    "    x = re.sub(\"\\S*\\d\\S*\", \"\", x).strip() \n",
    "    # removing special character from the sentences\n",
    "    x = re.sub(r\"[^a-zA-Z0-9]+\",\" \",x).strip()\n",
    "    \n",
    "    # stemming from the sentences\n",
    "    x = x.split(\" \")\n",
    "    poster = PorterStemmer()\n",
    "    sentences = set()\n",
    "    for sent in x:\n",
    "        if sent not in stopword :    \n",
    "            sentences.add(poster.stem(sent))\n",
    "        \n",
    "    x = \" \".join(sentences)\n",
    "        \n",
    "    return x\n",
    "        \n",
    "    \n",
    "    \n",
    "    \n",
    "    "
   ]
  },
  {
   "cell_type": "code",
   "execution_count": 69,
   "id": "f718d9ba",
   "metadata": {},
   "outputs": [
    {
     "name": "stderr",
     "output_type": "stream",
     "text": [
      "c:\\users\\dell\\appdata\\local\\programs\\python\\python39\\lib\\site-packages\\bs4\\__init__.py:337: MarkupResemblesLocatorWarning: \".\" looks like a directory name, not markup. You may want to open a file found in this directory and pass the filehandle into Beautiful Soup.\n",
      "  warnings.warn(\n"
     ]
    }
   ],
   "source": [
    "df[\"question1\"] = df[\"question1\"].apply(preprocessing)"
   ]
  },
  {
   "cell_type": "code",
   "execution_count": 70,
   "id": "6c462af5",
   "metadata": {},
   "outputs": [
    {
     "name": "stdout",
     "output_type": "stream",
     "text": [
      "Time taken to process  0:05:45.362233\n"
     ]
    }
   ],
   "source": [
    "from datetime import datetime\n",
    "start_time = datetime.now()\n",
    "df[\"question2\"] = df[\"question2\"].apply(preprocessing)\n",
    "print(\"Time taken to process \",abs(start_time-datetime.now()))"
   ]
  },
  {
   "cell_type": "code",
   "execution_count": 71,
   "id": "8ba16de7",
   "metadata": {},
   "outputs": [
    {
     "data": {
      "text/html": [
       "<div>\n",
       "<style scoped>\n",
       "    .dataframe tbody tr th:only-of-type {\n",
       "        vertical-align: middle;\n",
       "    }\n",
       "\n",
       "    .dataframe tbody tr th {\n",
       "        vertical-align: top;\n",
       "    }\n",
       "\n",
       "    .dataframe thead th {\n",
       "        text-align: right;\n",
       "    }\n",
       "</style>\n",
       "<table border=\"1\" class=\"dataframe\">\n",
       "  <thead>\n",
       "    <tr style=\"text-align: right;\">\n",
       "      <th></th>\n",
       "      <th>id</th>\n",
       "      <th>qid1</th>\n",
       "      <th>qid2</th>\n",
       "      <th>question1</th>\n",
       "      <th>question2</th>\n",
       "      <th>is_duplicate</th>\n",
       "      <th>freq1</th>\n",
       "      <th>freq2</th>\n",
       "      <th>common</th>\n",
       "    </tr>\n",
       "  </thead>\n",
       "  <tbody>\n",
       "    <tr>\n",
       "      <th>0</th>\n",
       "      <td>0</td>\n",
       "      <td>1</td>\n",
       "      <td>2</td>\n",
       "      <td>guid share invest india market step</td>\n",
       "      <td>guid share invest market step</td>\n",
       "      <td>0</td>\n",
       "      <td>1</td>\n",
       "      <td>1</td>\n",
       "      <td>0.500000</td>\n",
       "    </tr>\n",
       "    <tr>\n",
       "      <th>1</th>\n",
       "      <td>1</td>\n",
       "      <td>3</td>\n",
       "      <td>4</td>\n",
       "      <td>koh diamond stori noor kohinoor</td>\n",
       "      <td>stole would happen back koh diamond govern ind...</td>\n",
       "      <td>0</td>\n",
       "      <td>4</td>\n",
       "      <td>1</td>\n",
       "      <td>0.238095</td>\n",
       "    </tr>\n",
       "    <tr>\n",
       "      <th>2</th>\n",
       "      <td>2</td>\n",
       "      <td>5</td>\n",
       "      <td>6</td>\n",
       "      <td>connect vpn speed increas internet use</td>\n",
       "      <td>speed increas internet hack dn</td>\n",
       "      <td>0</td>\n",
       "      <td>1</td>\n",
       "      <td>1</td>\n",
       "      <td>0.166667</td>\n",
       "    </tr>\n",
       "    <tr>\n",
       "      <th>3</th>\n",
       "      <td>3</td>\n",
       "      <td>7</td>\n",
       "      <td>8</td>\n",
       "      <td>lone mental solv</td>\n",
       "      <td>find divid remaind</td>\n",
       "      <td>0</td>\n",
       "      <td>1</td>\n",
       "      <td>1</td>\n",
       "      <td>0.050000</td>\n",
       "    </tr>\n",
       "    <tr>\n",
       "      <th>4</th>\n",
       "      <td>4</td>\n",
       "      <td>9</td>\n",
       "      <td>10</td>\n",
       "      <td>sugar quikli salt oxid dissolv methan carbon o...</td>\n",
       "      <td>would salt water fish surviv</td>\n",
       "      <td>0</td>\n",
       "      <td>3</td>\n",
       "      <td>1</td>\n",
       "      <td>0.100000</td>\n",
       "    </tr>\n",
       "  </tbody>\n",
       "</table>\n",
       "</div>"
      ],
      "text/plain": [
       "   id  qid1  qid2                                          question1  \\\n",
       "0   0     1     2                guid share invest india market step   \n",
       "1   1     3     4                    koh diamond stori noor kohinoor   \n",
       "2   2     5     6             connect vpn speed increas internet use   \n",
       "3   3     7     8                                   lone mental solv   \n",
       "4   4     9    10  sugar quikli salt oxid dissolv methan carbon o...   \n",
       "\n",
       "                                           question2  is_duplicate  freq1  \\\n",
       "0                      guid share invest market step             0      1   \n",
       "1  stole would happen back koh diamond govern ind...             0      4   \n",
       "2                     speed increas internet hack dn             0      1   \n",
       "3                                 find divid remaind             0      1   \n",
       "4                       would salt water fish surviv             0      3   \n",
       "\n",
       "   freq2    common  \n",
       "0      1  0.500000  \n",
       "1      1  0.238095  \n",
       "2      1  0.166667  \n",
       "3      1  0.050000  \n",
       "4      1  0.100000  "
      ]
     },
     "execution_count": 71,
     "metadata": {},
     "output_type": "execute_result"
    }
   ],
   "source": [
    "df.head()"
   ]
  },
  {
   "cell_type": "code",
   "execution_count": 82,
   "id": "bf893c2d",
   "metadata": {},
   "outputs": [],
   "source": [
    "df.to_csv(\"after_preprocessing.csv\",index=False)"
   ]
  },
  {
   "cell_type": "code",
   "execution_count": 4,
   "id": "a9860e71",
   "metadata": {},
   "outputs": [],
   "source": [
    "# after preprocessing the text \n",
    "\n",
    "df = pd.read_csv(\"after_preprocessing.csv\")"
   ]
  },
  {
   "cell_type": "code",
   "execution_count": 5,
   "id": "ef3b54a3",
   "metadata": {},
   "outputs": [],
   "source": [
    "from sklearn.preprocessing import normalize\n",
    "from sklearn.feature_extraction.text import CountVectorizer\n",
    "from sklearn.feature_extraction.text import TfidfVectorizer\n",
    "from sklearn.model_selection import train_test_split"
   ]
  },
  {
   "cell_type": "code",
   "execution_count": 6,
   "id": "0b59321b",
   "metadata": {},
   "outputs": [
    {
     "data": {
      "text/html": [
       "<div>\n",
       "<style scoped>\n",
       "    .dataframe tbody tr th:only-of-type {\n",
       "        vertical-align: middle;\n",
       "    }\n",
       "\n",
       "    .dataframe tbody tr th {\n",
       "        vertical-align: top;\n",
       "    }\n",
       "\n",
       "    .dataframe thead th {\n",
       "        text-align: right;\n",
       "    }\n",
       "</style>\n",
       "<table border=\"1\" class=\"dataframe\">\n",
       "  <thead>\n",
       "    <tr style=\"text-align: right;\">\n",
       "      <th></th>\n",
       "      <th>id</th>\n",
       "      <th>qid1</th>\n",
       "      <th>qid2</th>\n",
       "      <th>question1</th>\n",
       "      <th>question2</th>\n",
       "      <th>is_duplicate</th>\n",
       "      <th>freq1</th>\n",
       "      <th>freq2</th>\n",
       "      <th>common</th>\n",
       "    </tr>\n",
       "  </thead>\n",
       "  <tbody>\n",
       "    <tr>\n",
       "      <th>0</th>\n",
       "      <td>0</td>\n",
       "      <td>1</td>\n",
       "      <td>2</td>\n",
       "      <td>guid share invest india market step</td>\n",
       "      <td>guid share invest market step</td>\n",
       "      <td>0</td>\n",
       "      <td>1</td>\n",
       "      <td>1</td>\n",
       "      <td>0.500000</td>\n",
       "    </tr>\n",
       "    <tr>\n",
       "      <th>1</th>\n",
       "      <td>1</td>\n",
       "      <td>3</td>\n",
       "      <td>4</td>\n",
       "      <td>koh diamond stori noor kohinoor</td>\n",
       "      <td>stole would happen back koh diamond govern ind...</td>\n",
       "      <td>0</td>\n",
       "      <td>4</td>\n",
       "      <td>1</td>\n",
       "      <td>0.238095</td>\n",
       "    </tr>\n",
       "    <tr>\n",
       "      <th>2</th>\n",
       "      <td>2</td>\n",
       "      <td>5</td>\n",
       "      <td>6</td>\n",
       "      <td>connect vpn speed increas internet use</td>\n",
       "      <td>speed increas internet hack dn</td>\n",
       "      <td>0</td>\n",
       "      <td>1</td>\n",
       "      <td>1</td>\n",
       "      <td>0.166667</td>\n",
       "    </tr>\n",
       "    <tr>\n",
       "      <th>3</th>\n",
       "      <td>3</td>\n",
       "      <td>7</td>\n",
       "      <td>8</td>\n",
       "      <td>lone mental solv</td>\n",
       "      <td>find divid remaind</td>\n",
       "      <td>0</td>\n",
       "      <td>1</td>\n",
       "      <td>1</td>\n",
       "      <td>0.050000</td>\n",
       "    </tr>\n",
       "    <tr>\n",
       "      <th>4</th>\n",
       "      <td>4</td>\n",
       "      <td>9</td>\n",
       "      <td>10</td>\n",
       "      <td>sugar quikli salt oxid dissolv methan carbon o...</td>\n",
       "      <td>would salt water fish surviv</td>\n",
       "      <td>0</td>\n",
       "      <td>3</td>\n",
       "      <td>1</td>\n",
       "      <td>0.100000</td>\n",
       "    </tr>\n",
       "  </tbody>\n",
       "</table>\n",
       "</div>"
      ],
      "text/plain": [
       "   id  qid1  qid2                                          question1  \\\n",
       "0   0     1     2                guid share invest india market step   \n",
       "1   1     3     4                    koh diamond stori noor kohinoor   \n",
       "2   2     5     6             connect vpn speed increas internet use   \n",
       "3   3     7     8                                   lone mental solv   \n",
       "4   4     9    10  sugar quikli salt oxid dissolv methan carbon o...   \n",
       "\n",
       "                                           question2  is_duplicate  freq1  \\\n",
       "0                      guid share invest market step             0      1   \n",
       "1  stole would happen back koh diamond govern ind...             0      4   \n",
       "2                     speed increas internet hack dn             0      1   \n",
       "3                                 find divid remaind             0      1   \n",
       "4                       would salt water fish surviv             0      3   \n",
       "\n",
       "   freq2    common  \n",
       "0      1  0.500000  \n",
       "1      1  0.238095  \n",
       "2      1  0.166667  \n",
       "3      1  0.050000  \n",
       "4      1  0.100000  "
      ]
     },
     "execution_count": 6,
     "metadata": {},
     "output_type": "execute_result"
    }
   ],
   "source": [
    "df.head()"
   ]
  },
  {
   "cell_type": "code",
   "execution_count": 7,
   "id": "75909d0b",
   "metadata": {},
   "outputs": [
    {
     "data": {
      "text/plain": [
       "str"
      ]
     },
     "execution_count": 7,
     "metadata": {},
     "output_type": "execute_result"
    }
   ],
   "source": [
    "df[\"question1\"]   = df[\"question1\"].apply(lambda x:str(x))\n",
    "df[\"question2\"]  = df[\"question2\"].apply(lambda x:str(x))\n",
    "\n",
    "type(df[\"question1\"][0])"
   ]
  },
  {
   "cell_type": "code",
   "execution_count": 8,
   "id": "efb5cfe7",
   "metadata": {},
   "outputs": [
    {
     "data": {
      "text/html": [
       "<div>\n",
       "<style scoped>\n",
       "    .dataframe tbody tr th:only-of-type {\n",
       "        vertical-align: middle;\n",
       "    }\n",
       "\n",
       "    .dataframe tbody tr th {\n",
       "        vertical-align: top;\n",
       "    }\n",
       "\n",
       "    .dataframe thead th {\n",
       "        text-align: right;\n",
       "    }\n",
       "</style>\n",
       "<table border=\"1\" class=\"dataframe\">\n",
       "  <thead>\n",
       "    <tr style=\"text-align: right;\">\n",
       "      <th></th>\n",
       "      <th>id</th>\n",
       "      <th>qid1</th>\n",
       "      <th>qid2</th>\n",
       "      <th>question1</th>\n",
       "      <th>question2</th>\n",
       "      <th>is_duplicate</th>\n",
       "      <th>freq1</th>\n",
       "      <th>freq2</th>\n",
       "      <th>common</th>\n",
       "    </tr>\n",
       "  </thead>\n",
       "  <tbody>\n",
       "  </tbody>\n",
       "</table>\n",
       "</div>"
      ],
      "text/plain": [
       "Empty DataFrame\n",
       "Columns: [id, qid1, qid2, question1, question2, is_duplicate, freq1, freq2, common]\n",
       "Index: []"
      ]
     },
     "execution_count": 8,
     "metadata": {},
     "output_type": "execute_result"
    }
   ],
   "source": [
    "df[df.isnull().any(1)]"
   ]
  },
  {
   "cell_type": "code",
   "execution_count": 26,
   "id": "0ae850a4",
   "metadata": {},
   "outputs": [],
   "source": [
    "##### what is the most common word when dublicate and when not dublicate?\n",
    "# when dublicate\n",
    "not_duplicate_df = df[df.is_duplicate==0]\n",
    "duplicate_df = df[df.is_duplicate==1]\n",
    "not_duplicate_ques = list(not_duplicate_df.question1)+list(not_duplicate_df.question2)\n",
    "duplicate_ques = list(duplicate_df.question1)+list(duplicate_df.question2)\n",
    "\n",
    "\n",
    "\n",
    "# finding occurance\n",
    "\n",
    "def common_word(dataset,word_dict):\n",
    "    for i in dataset:\n",
    "        for word in i.split():\n",
    "            if word in word_dict:\n",
    "                word_dict[word] +=1\n",
    "            else:\n",
    "                word_dict[word] = 1\n",
    "        \n",
    "word_dict_duplicate = {}      \n",
    "common_word(duplicate_ques,word_dict_duplicate)\n",
    "word_dict_notduplicate = {}\n",
    "common_word(not_duplicate_ques,word_dict_notduplicate)"
   ]
  },
  {
   "cell_type": "code",
   "execution_count": 27,
   "id": "81ecb9ae",
   "metadata": {},
   "outputs": [],
   "source": [
    "word_dicts_duplicate = sorted(word_dict_duplicate.items(),key=lambda x:x[1],reverse=True)\n",
    "word_dicts_not_duplicate = sorted(word_dict_notduplicate.items(),key=lambda x:x[1],reverse=True)"
   ]
  },
  {
   "cell_type": "code",
   "execution_count": 28,
   "id": "e618d1c5",
   "metadata": {},
   "outputs": [
    {
     "data": {
      "text/html": [
       "<div>\n",
       "<style scoped>\n",
       "    .dataframe tbody tr th:only-of-type {\n",
       "        vertical-align: middle;\n",
       "    }\n",
       "\n",
       "    .dataframe tbody tr th {\n",
       "        vertical-align: top;\n",
       "    }\n",
       "\n",
       "    .dataframe thead th {\n",
       "        text-align: right;\n",
       "    }\n",
       "</style>\n",
       "<table border=\"1\" class=\"dataframe\">\n",
       "  <thead>\n",
       "    <tr style=\"text-align: right;\">\n",
       "      <th></th>\n",
       "      <th>id</th>\n",
       "      <th>qid1</th>\n",
       "      <th>qid2</th>\n",
       "      <th>question1</th>\n",
       "      <th>question2</th>\n",
       "      <th>is_duplicate</th>\n",
       "      <th>freq1</th>\n",
       "      <th>freq2</th>\n",
       "      <th>common</th>\n",
       "    </tr>\n",
       "  </thead>\n",
       "  <tbody>\n",
       "    <tr>\n",
       "      <th>0</th>\n",
       "      <td>0</td>\n",
       "      <td>1</td>\n",
       "      <td>2</td>\n",
       "      <td>guid share invest india market step</td>\n",
       "      <td>guid share invest market step</td>\n",
       "      <td>0</td>\n",
       "      <td>1</td>\n",
       "      <td>1</td>\n",
       "      <td>0.500000</td>\n",
       "    </tr>\n",
       "    <tr>\n",
       "      <th>1</th>\n",
       "      <td>1</td>\n",
       "      <td>3</td>\n",
       "      <td>4</td>\n",
       "      <td>koh diamond stori noor kohinoor</td>\n",
       "      <td>stole would happen back koh diamond govern ind...</td>\n",
       "      <td>0</td>\n",
       "      <td>4</td>\n",
       "      <td>1</td>\n",
       "      <td>0.238095</td>\n",
       "    </tr>\n",
       "    <tr>\n",
       "      <th>2</th>\n",
       "      <td>2</td>\n",
       "      <td>5</td>\n",
       "      <td>6</td>\n",
       "      <td>connect vpn speed increas internet use</td>\n",
       "      <td>speed increas internet hack dn</td>\n",
       "      <td>0</td>\n",
       "      <td>1</td>\n",
       "      <td>1</td>\n",
       "      <td>0.166667</td>\n",
       "    </tr>\n",
       "    <tr>\n",
       "      <th>3</th>\n",
       "      <td>3</td>\n",
       "      <td>7</td>\n",
       "      <td>8</td>\n",
       "      <td>lone mental solv</td>\n",
       "      <td>find divid remaind</td>\n",
       "      <td>0</td>\n",
       "      <td>1</td>\n",
       "      <td>1</td>\n",
       "      <td>0.050000</td>\n",
       "    </tr>\n",
       "    <tr>\n",
       "      <th>4</th>\n",
       "      <td>4</td>\n",
       "      <td>9</td>\n",
       "      <td>10</td>\n",
       "      <td>sugar quikli salt oxid dissolv methan carbon o...</td>\n",
       "      <td>would salt water fish surviv</td>\n",
       "      <td>0</td>\n",
       "      <td>3</td>\n",
       "      <td>1</td>\n",
       "      <td>0.100000</td>\n",
       "    </tr>\n",
       "  </tbody>\n",
       "</table>\n",
       "</div>"
      ],
      "text/plain": [
       "   id  qid1  qid2                                          question1  \\\n",
       "0   0     1     2                guid share invest india market step   \n",
       "1   1     3     4                    koh diamond stori noor kohinoor   \n",
       "2   2     5     6             connect vpn speed increas internet use   \n",
       "3   3     7     8                                   lone mental solv   \n",
       "4   4     9    10  sugar quikli salt oxid dissolv methan carbon o...   \n",
       "\n",
       "                                           question2  is_duplicate  freq1  \\\n",
       "0                      guid share invest market step             0      1   \n",
       "1  stole would happen back koh diamond govern ind...             0      4   \n",
       "2                     speed increas internet hack dn             0      1   \n",
       "3                                 find divid remaind             0      1   \n",
       "4                       would salt water fish surviv             0      3   \n",
       "\n",
       "   freq2    common  \n",
       "0      1  0.500000  \n",
       "1      1  0.238095  \n",
       "2      1  0.166667  \n",
       "3      1  0.050000  \n",
       "4      1  0.100000  "
      ]
     },
     "execution_count": 28,
     "metadata": {},
     "output_type": "execute_result"
    }
   ],
   "source": [
    "df.head()"
   ]
  },
  {
   "cell_type": "code",
   "execution_count": 29,
   "id": "e051edde",
   "metadata": {},
   "outputs": [
    {
     "data": {
      "text/plain": [
       "id              False\n",
       "qid1            False\n",
       "qid2            False\n",
       "question1       False\n",
       "question2       False\n",
       "is_duplicate    False\n",
       "freq1           False\n",
       "freq2           False\n",
       "common          False\n",
       "dtype: bool"
      ]
     },
     "execution_count": 29,
     "metadata": {},
     "output_type": "execute_result"
    }
   ],
   "source": [
    "df.isnull().any()"
   ]
  },
  {
   "cell_type": "code",
   "execution_count": 30,
   "id": "d7bbda01",
   "metadata": {},
   "outputs": [
    {
     "name": "stdout",
     "output_type": "stream",
     "text": [
      "The most common word when duplicate question are found are : \n",
      "1 . best with frequency:  34245\n",
      "2 . get with frequency:  15906\n",
      "3 . india with frequency:  12809\n",
      "4 . way with frequency:  12307\n",
      "5 . quora with frequency:  12102\n",
      "6 . not with frequency:  10975\n",
      "7 . peopl with frequency:  10578\n",
      "8 . learn with frequency:  8894\n",
      "9 . make with frequency:  8609\n",
      "10 . money with frequency:  8331\n",
      "\n",
      "\n",
      "**************************************************\n",
      "The most common word when not duplicate question are found are : \n",
      "1 . best with frequency:  35849\n",
      "2 . not with frequency:  29981\n",
      "3 . get with frequency:  27188\n",
      "4 . use with frequency:  20317\n",
      "5 . like with frequency:  19927\n",
      "6 . good with frequency:  17147\n",
      "7 . differ with frequency:  17106\n",
      "8 . india with frequency:  15895\n",
      "9 . peopl with frequency:  15023\n",
      "10 . would with frequency:  14881\n"
     ]
    }
   ],
   "source": [
    "print(\"The most common word when duplicate question are found are : \")\n",
    "count = 1\n",
    "for i in word_dicts_duplicate[:10]:  \n",
    "    print(count,\".\",i[0],\"with frequency: \",i[1])\n",
    "    count +=1\n",
    "    \n",
    "print(\"\\n\")   \n",
    "print(\"*\"*50)\n",
    "print(\"The most common word when not duplicate question are found are : \")\n",
    "count = 1\n",
    "for i in word_dicts_not_duplicate[:10]:  \n",
    "    print(count,\".\",i[0],\"with frequency: \",i[1])\n",
    "    count +=1"
   ]
  },
  {
   "cell_type": "markdown",
   "id": "a3470d04",
   "metadata": {},
   "source": [
    "## TRAIN TEST CV SPLIT (60-20-20)\n",
    "Since during Training time, test and cv values must not be seen. So better split the data\n",
    "\n",
    "Here, \n",
    "\n",
    "we split our data in ratio of :\n",
    "    \n",
    "    Train - 60%\n",
    "    Test  -  20%\n",
    "    CV    - 20%"
   ]
  },
  {
   "cell_type": "code",
   "execution_count": 9,
   "id": "36ac55ed",
   "metadata": {},
   "outputs": [
    {
     "data": {
      "text/html": [
       "<div>\n",
       "<style scoped>\n",
       "    .dataframe tbody tr th:only-of-type {\n",
       "        vertical-align: middle;\n",
       "    }\n",
       "\n",
       "    .dataframe tbody tr th {\n",
       "        vertical-align: top;\n",
       "    }\n",
       "\n",
       "    .dataframe thead th {\n",
       "        text-align: right;\n",
       "    }\n",
       "</style>\n",
       "<table border=\"1\" class=\"dataframe\">\n",
       "  <thead>\n",
       "    <tr style=\"text-align: right;\">\n",
       "      <th></th>\n",
       "      <th>id</th>\n",
       "      <th>qid1</th>\n",
       "      <th>qid2</th>\n",
       "      <th>question1</th>\n",
       "      <th>question2</th>\n",
       "      <th>freq1</th>\n",
       "      <th>freq2</th>\n",
       "      <th>common</th>\n",
       "    </tr>\n",
       "  </thead>\n",
       "  <tbody>\n",
       "    <tr>\n",
       "      <th>0</th>\n",
       "      <td>0</td>\n",
       "      <td>1</td>\n",
       "      <td>2</td>\n",
       "      <td>guid share invest india market step</td>\n",
       "      <td>guid share invest market step</td>\n",
       "      <td>1</td>\n",
       "      <td>1</td>\n",
       "      <td>0.500000</td>\n",
       "    </tr>\n",
       "    <tr>\n",
       "      <th>1</th>\n",
       "      <td>1</td>\n",
       "      <td>3</td>\n",
       "      <td>4</td>\n",
       "      <td>koh diamond stori noor kohinoor</td>\n",
       "      <td>stole would happen back koh diamond govern ind...</td>\n",
       "      <td>4</td>\n",
       "      <td>1</td>\n",
       "      <td>0.238095</td>\n",
       "    </tr>\n",
       "    <tr>\n",
       "      <th>2</th>\n",
       "      <td>2</td>\n",
       "      <td>5</td>\n",
       "      <td>6</td>\n",
       "      <td>connect vpn speed increas internet use</td>\n",
       "      <td>speed increas internet hack dn</td>\n",
       "      <td>1</td>\n",
       "      <td>1</td>\n",
       "      <td>0.166667</td>\n",
       "    </tr>\n",
       "    <tr>\n",
       "      <th>3</th>\n",
       "      <td>3</td>\n",
       "      <td>7</td>\n",
       "      <td>8</td>\n",
       "      <td>lone mental solv</td>\n",
       "      <td>find divid remaind</td>\n",
       "      <td>1</td>\n",
       "      <td>1</td>\n",
       "      <td>0.050000</td>\n",
       "    </tr>\n",
       "    <tr>\n",
       "      <th>4</th>\n",
       "      <td>4</td>\n",
       "      <td>9</td>\n",
       "      <td>10</td>\n",
       "      <td>sugar quikli salt oxid dissolv methan carbon o...</td>\n",
       "      <td>would salt water fish surviv</td>\n",
       "      <td>3</td>\n",
       "      <td>1</td>\n",
       "      <td>0.100000</td>\n",
       "    </tr>\n",
       "  </tbody>\n",
       "</table>\n",
       "</div>"
      ],
      "text/plain": [
       "   id  qid1  qid2                                          question1  \\\n",
       "0   0     1     2                guid share invest india market step   \n",
       "1   1     3     4                    koh diamond stori noor kohinoor   \n",
       "2   2     5     6             connect vpn speed increas internet use   \n",
       "3   3     7     8                                   lone mental solv   \n",
       "4   4     9    10  sugar quikli salt oxid dissolv methan carbon o...   \n",
       "\n",
       "                                           question2  freq1  freq2    common  \n",
       "0                      guid share invest market step      1      1  0.500000  \n",
       "1  stole would happen back koh diamond govern ind...      4      1  0.238095  \n",
       "2                     speed increas internet hack dn      1      1  0.166667  \n",
       "3                                 find divid remaind      1      1  0.050000  \n",
       "4                       would salt water fish surviv      3      1  0.100000  "
      ]
     },
     "execution_count": 9,
     "metadata": {},
     "output_type": "execute_result"
    }
   ],
   "source": [
    "y_data = df[\"is_duplicate\"]\n",
    "x_data = df.drop(columns=[\"is_duplicate\"])\n",
    "x_data.head()"
   ]
  },
  {
   "cell_type": "code",
   "execution_count": 10,
   "id": "6a1dc96a",
   "metadata": {},
   "outputs": [],
   "source": [
    "# spliting data in train, test and cv\n",
    "train_i,test_x,y_train,y_test = train_test_split(x_data,y_data,train_size=0.80)\n",
    "train_df,cv_df,y_train,y_cv = train_test_split(train_i,y_train,train_size=0.80)"
   ]
  },
  {
   "cell_type": "code",
   "execution_count": 11,
   "id": "a5db7797",
   "metadata": {},
   "outputs": [
    {
     "name": "stdout",
     "output_type": "stream",
     "text": [
      "The size of Train, Test and Cv are : \n",
      "Train :  (258743, 8)\n",
      "CV :  (64686, 8)\n",
      "Test :  (80858, 8)\n"
     ]
    }
   ],
   "source": [
    "print(\"The size of Train, Test and Cv are : \")\n",
    "print(\"Train : \",train_df.shape)\n",
    "print(\"CV : \",cv_df.shape)\n",
    "print(\"Test : \",test_x.shape)"
   ]
  },
  {
   "cell_type": "code",
   "execution_count": 12,
   "id": "dd22966d",
   "metadata": {},
   "outputs": [
    {
     "data": {
      "image/png": "[encoded data removed]",
      "text/plain": [
       "<Figure size 432x288 with 1 Axes>"
      ]
     },
     "metadata": {
      "needs_background": "light"
     },
     "output_type": "display_data"
    },
    {
     "name": "stdout",
     "output_type": "stream",
     "text": [
      "0    163188\n",
      "1     95555\n",
      "Name: is_duplicate, dtype: int64\n"
     ]
    },
    {
     "data": {
      "image/png": "[encoded data removed]",
      "text/plain": [
       "<Figure size 432x288 with 1 Axes>"
      ]
     },
     "metadata": {
      "needs_background": "light"
     },
     "output_type": "display_data"
    },
    {
     "name": "stdout",
     "output_type": "stream",
     "text": [
      "0    51070\n",
      "1    29788\n",
      "Name: is_duplicate, dtype: int64\n"
     ]
    },
    {
     "data": {
      "image/png": "[encoded data removed]",
      "text/plain": [
       "<Figure size 432x288 with 1 Axes>"
      ]
     },
     "metadata": {
      "needs_background": "light"
     },
     "output_type": "display_data"
    },
    {
     "name": "stdout",
     "output_type": "stream",
     "text": [
      "0    40766\n",
      "1    23920\n",
      "Name: is_duplicate, dtype: int64\n"
     ]
    }
   ],
   "source": [
    "# distribution of data in train,test and cv\n",
    "\n",
    "# for train data\n",
    "y_train.value_counts().plot.bar()\n",
    "plt.show()\n",
    "print(y_train.value_counts())\n",
    "\n",
    "# for test data\n",
    "y_test.value_counts().plot.bar()\n",
    "plt.show()\n",
    "print(y_test.value_counts())\n",
    "\n",
    "y_cv.value_counts().plot.bar()\n",
    "plt.show()\n",
    "print(y_cv.value_counts())"
   ]
  },
  {
   "cell_type": "markdown",
   "id": "33299260",
   "metadata": {},
   "source": [
    "# Text Featurizing \n",
    "\n",
    "    . using Bags of words\n",
    "    . using tfidf\n",
    "    "
   ]
  },
  {
   "cell_type": "code",
   "execution_count": 13,
   "id": "6cb7ba81",
   "metadata": {},
   "outputs": [],
   "source": [
    "questions = list(train_df[\"question1\"]) + list(train_df[\"question2\"])"
   ]
  },
  {
   "cell_type": "code",
   "execution_count": 14,
   "id": "3de1308f",
   "metadata": {},
   "outputs": [
    {
     "data": {
      "text/html": [
       "<div>\n",
       "<style scoped>\n",
       "    .dataframe tbody tr th:only-of-type {\n",
       "        vertical-align: middle;\n",
       "    }\n",
       "\n",
       "    .dataframe tbody tr th {\n",
       "        vertical-align: top;\n",
       "    }\n",
       "\n",
       "    .dataframe thead th {\n",
       "        text-align: right;\n",
       "    }\n",
       "</style>\n",
       "<table border=\"1\" class=\"dataframe\">\n",
       "  <thead>\n",
       "    <tr style=\"text-align: right;\">\n",
       "      <th></th>\n",
       "      <th>id</th>\n",
       "      <th>qid1</th>\n",
       "      <th>qid2</th>\n",
       "      <th>question1</th>\n",
       "      <th>question2</th>\n",
       "      <th>freq1</th>\n",
       "      <th>freq2</th>\n",
       "      <th>common</th>\n",
       "    </tr>\n",
       "  </thead>\n",
       "  <tbody>\n",
       "  </tbody>\n",
       "</table>\n",
       "</div>"
      ],
      "text/plain": [
       "Empty DataFrame\n",
       "Columns: [id, qid1, qid2, question1, question2, freq1, freq2, common]\n",
       "Index: []"
      ]
     },
     "execution_count": 14,
     "metadata": {},
     "output_type": "execute_result"
    }
   ],
   "source": [
    "train_df[train_df[\"question1\"].isnull()]"
   ]
  },
  {
   "cell_type": "code",
   "execution_count": 15,
   "id": "17673418",
   "metadata": {},
   "outputs": [
    {
     "data": {
      "text/plain": [
       "517486"
      ]
     },
     "execution_count": 15,
     "metadata": {},
     "output_type": "execute_result"
    }
   ],
   "source": [
    "len(questions)"
   ]
  },
  {
   "cell_type": "markdown",
   "id": "67a64411",
   "metadata": {},
   "source": [
    "## Bags of Words "
   ]
  },
  {
   "cell_type": "code",
   "execution_count": 16,
   "id": "e71ed452",
   "metadata": {},
   "outputs": [],
   "source": [
    "\n",
    "bow = CountVectorizer(max_features=200)\n",
    "bow_vector  = bow.fit(questions)\n"
   ]
  },
  {
   "cell_type": "code",
   "execution_count": 17,
   "id": "87e5faeb",
   "metadata": {},
   "outputs": [
    {
     "name": "stdout",
     "output_type": "stream",
     "text": [
      "The feature name are  ['even', 'ever', 'exam', 'exampl', 'exist', 'experi', 'facebook', 'feel', 'find', 'first', 'follow', 'food', 'free', 'friend', 'game', 'get', 'girl', 'give', 'go', 'good']\n",
      "The type of vector is  <class 'sklearn.feature_extraction.text.CountVectorizer'>\n"
     ]
    }
   ],
   "source": [
    "print(\"The feature name are \",bow.get_feature_names()[50:70])\n",
    "print(\"The type of vector is \",type(bow_vector))\n"
   ]
  },
  {
   "cell_type": "code",
   "execution_count": 18,
   "id": "73ebd482",
   "metadata": {},
   "outputs": [],
   "source": [
    "ids = [i for i in range(df.shape[0])]"
   ]
  },
  {
   "cell_type": "code",
   "execution_count": 19,
   "id": "6e7cd4e7",
   "metadata": {},
   "outputs": [
    {
     "name": "stdout",
     "output_type": "stream",
     "text": [
      "Started...\n",
      "Done...\n",
      "Total time taken :  0:00:02.551372\n"
     ]
    }
   ],
   "source": [
    "from datetime import datetime\n",
    "print(\"Started...\")\n",
    "start_time = datetime.now()\n",
    "train_question1_bow = bow_vector.transform(train_df[\"question1\"])\n",
    "train_question2_bow = bow_vector.transform(train_df[\"question2\"])\n",
    "print(\"Done...\")\n",
    "print(\"Total time taken : \",datetime.now()-start_time)\n"
   ]
  },
  {
   "cell_type": "code",
   "execution_count": 20,
   "id": "a6a7834f",
   "metadata": {},
   "outputs": [
    {
     "name": "stdout",
     "output_type": "stream",
     "text": [
      "Done ... \n"
     ]
    }
   ],
   "source": [
    "# For test data\n",
    "test_question1_bow = bow_vector.transform(test_x[\"question1\"])\n",
    "test_question2_bow = bow_vector.transform(test_x[\"question2\"])\n",
    "# for cv data\n",
    "cv_question1_bow = bow_vector.transform(cv_df[\"question1\"])\n",
    "cv_question2_bow = bow_vector.transform(cv_df[\"question2\"])\n",
    "print(\"Done ... \")\n"
   ]
  },
  {
   "cell_type": "markdown",
   "id": "cb3eae17",
   "metadata": {},
   "source": [
    "## TFIDF Vectorization \n"
   ]
  },
  {
   "cell_type": "code",
   "execution_count": 21,
   "id": "640a552f",
   "metadata": {},
   "outputs": [
    {
     "name": "stdout",
     "output_type": "stream",
     "text": [
      "The size of training tfidf vector are :  (258743, 200)\n",
      "The size of testing tfid vector are :  (80858, 200)\n",
      "The size of cv tfidf vector are :  (64686, 200)\n"
     ]
    }
   ],
   "source": [
    "tfidf = TfidfVectorizer(max_features=200)\n",
    "tfidf_vec = tfidf.fit(questions)\n",
    "# for train data\n",
    "train_question1_tfidf = tfidf_vec.transform(train_df[\"question1\"])\n",
    "train_question2_tfidf = tfidf_vec.transform(train_df[\"question2\"])\n",
    "print(\"The size of training tfidf vector are : \",(train_question1_tfidf.shape))\n",
    "# For test data\n",
    "test_question1_tfidf = tfidf_vec.transform(test_x[\"question1\"])\n",
    "test_question2_tfidf = tfidf_vec.transform(test_x[\"question2\"])\n",
    "print(\"The size of testing tfid vector are : \",(test_question1_tfidf.shape))\n",
    "# for cv data\n",
    "cv_question1_tfidf = tfidf_vec.transform(cv_df[\"question1\"])\n",
    "cv_question2_tfidf = tfidf_vec.transform(cv_df[\"question2\"])\n",
    "print(\"The size of cv tfidf vector are : \",(cv_question1_tfidf.shape))"
   ]
  },
  {
   "cell_type": "markdown",
   "id": "ee6cfe50",
   "metadata": {},
   "source": [
    "## Stacking the BOW and TFIDF vectors."
   ]
  },
  {
   "cell_type": "code",
   "execution_count": 22,
   "id": "93510dc7",
   "metadata": {},
   "outputs": [
    {
     "name": "stdout",
     "output_type": "stream",
     "text": [
      "Stacking the Vectors ....\n",
      "Tfidf done....\n",
      "Started Bow ....\n",
      "Done ...\n",
      "Total time taken to finish :  0:00:01.415218\n"
     ]
    }
   ],
   "source": [
    "print(\"Stacking the Vectors ....\")\n",
    "start_time = datetime.now()\n",
    "tfidf_stack_train = np.hstack((train_question1_bow.toarray(),train_question2_bow.toarray()))\n",
    "tfidf_stack_test = np.hstack((test_question1_bow.toarray(),test_question2_bow.toarray()))\n",
    "tfidf_stack_cv = np.hstack((cv_question1_bow.toarray(),cv_question2_bow.toarray()))\n",
    "print(\"Tfidf done....\")\n",
    "print(\"Started Bow ....\")\n",
    "bow_stack_train = np.hstack((train_question1_bow.toarray(),train_question2_bow.toarray()))\n",
    "bow_stack_test = np.hstack((test_question1_bow.toarray(),test_question2_bow.toarray()))\n",
    "bow_stack_cv = np.hstack((cv_question1_bow.toarray(),cv_question2_bow.toarray()))\n",
    "print(\"Done ...\")\n",
    "print(\"Total time taken to finish : \",datetime.now()-start_time)"
   ]
  },
  {
   "cell_type": "code",
   "execution_count": 23,
   "id": "b0d85d6d",
   "metadata": {},
   "outputs": [],
   "source": [
    "## Creating final datasets for train test and cv for word vectors.\n",
    "train_x_bow = pd.DataFrame(bow_stack_train)\n",
    "test_x_bow = pd.DataFrame(bow_stack_test)\n",
    "cv_x_bow = pd.DataFrame(bow_stack_cv)\n",
    "\n",
    "train_x_tfidf = pd.DataFrame(tfidf_stack_train)\n",
    "test_x_tfidf = pd.DataFrame(tfidf_stack_test)\n",
    "cv_x_tfidf = pd.DataFrame(tfidf_stack_cv)"
   ]
  },
  {
   "cell_type": "code",
   "execution_count": null,
   "id": "9baccb0e",
   "metadata": {},
   "outputs": [],
   "source": [
    "# bow\n",
    "train_x_bow.to_csv(\"train_x_bow.csv\")\n",
    "test_x_bow.to_csv(\"test_x_bow.csv\")\n",
    "cv_x_bow.to_csv(\"cv_x_bow.csv\")\n",
    "\n",
    "#tfidf\n",
    "\n",
    "train_x_tfidf.to_csv(\"train_x_tfidf.csv\")\n",
    "test_x_tfidf.to_csv(\"test_x_tfidf.csv\")\n",
    "cv_x_tfidf.to_csv(\"cv_x_tfidf.csv\")\n",
    "\n"
   ]
  },
  {
   "cell_type": "code",
   "execution_count": null,
   "id": "61b1c693",
   "metadata": {},
   "outputs": [],
   "source": [
    "## reading the file \n",
    "train_x_bow = pd.read_csv(\"train_x_bow.csv\")\n",
    "test_x_bow = pd.read_csv(\"test_x_bow.csv\")\n",
    "cv_x_bow = pd.read_csv(\"cv_x_bow.csv\")\n",
    "\n",
    "# for tfidf \n",
    "\n",
    "train_x_tfidf = pd.read_csv(\"train_x_tfidf.csv\")\n",
    "test_x_tfidf = pd.read_csv(\"test_x_tfidf.csv\")\n",
    "cv_x_tfidf = pd.read_csv(\"cv_x_tfidf.csv\")\n",
    "\n",
    "# dataframe\n",
    "df = pd.read_csv(\"after_preprocessing.csv\")"
   ]
  },
  {
   "cell_type": "markdown",
   "id": "cd9b4cfc",
   "metadata": {},
   "source": [
    "# Building the Model\n",
    "\n",
    "    .Since ques is binary classification we can use accuacy or pecision as the preformance matrix.\n",
    "    . Dataset is not imbalance.\n",
    "    . Loss can be calculated using log loss.\n",
    "    . For binary classification we can use\n",
    "        . Logistic regression.\n",
    "        . Linera svm. \n",
    "        . Tree."
   ]
  },
  {
   "cell_type": "code",
   "execution_count": 1,
   "id": "939276e6",
   "metadata": {},
   "outputs": [],
   "source": [
    "import pandas as pd\n",
    "import numpy as np\n",
    "import sklearn \n",
    "import seaborn as sns\n",
    "import matplotlib.pyplot as plt\n",
    "from sklearn.model_selection import train_test_split\n",
    "from sklearn.model_selection import cross_val_score\n",
    "from sklearn.linear_model import SGDClassifier\n",
    "from sklearn import model_selection\n",
    "from sklearn.linear_model import LogisticRegression\n",
    "from sklearn.metrics import precision_recall_curve, auc, roc_curve\n",
    "from sklearn.calibration import CalibratedClassifierCV\n",
    "from sklearn.metrics import log_loss\n",
    "import numpy as np\n",
    "from datetime import datetime"
   ]
  },
  {
   "cell_type": "code",
   "execution_count": 124,
   "id": "c23a4403",
   "metadata": {},
   "outputs": [
    {
     "name": "stdout",
     "output_type": "stream",
     "text": [
      "Reading Files....\n",
      "Done...\n",
      "Total time taken to read :  0:00:48.218542\n"
     ]
    }
   ],
   "source": [
    "#  loading the dataset.\n",
    "\n",
    "print(\"Reading Files....\")\n",
    "start_time = datetime.now()\n",
    "## reading the file \n",
    "train_x_bow = pd.read_csv(\"train_x_bow.csv\",index_col=[0])\n",
    "test_x_bow = pd.read_csv(\"test_x_bow.csv\",index_col=[0])\n",
    "cv_x_bow = pd.read_csv(\"cv_x_bow.csv\",index_col=[0])\n",
    "\n",
    "# for tfidf \n",
    "\n",
    "train_x_tfidf = pd.read_csv(\"train_x_tfidf.csv\",index_col=[0])\n",
    "test_x_tfidf = pd.read_csv(\"test_x_tfidf.csv\",index_col=[0])\n",
    "cv_x_tfidf = pd.read_csv(\"cv_x_tfidf.csv\",index_col=[0])\n",
    "\n",
    "print(\"Done...\")\n",
    "print(\"Total time taken to read : \",datetime.now()-start_time)"
   ]
  },
  {
   "cell_type": "code",
   "execution_count": 25,
   "id": "641fc3c1",
   "metadata": {},
   "outputs": [
    {
     "data": {
      "text/html": [
       "<div>\n",
       "<style scoped>\n",
       "    .dataframe tbody tr th:only-of-type {\n",
       "        vertical-align: middle;\n",
       "    }\n",
       "\n",
       "    .dataframe tbody tr th {\n",
       "        vertical-align: top;\n",
       "    }\n",
       "\n",
       "    .dataframe thead th {\n",
       "        text-align: right;\n",
       "    }\n",
       "</style>\n",
       "<table border=\"1\" class=\"dataframe\">\n",
       "  <thead>\n",
       "    <tr style=\"text-align: right;\">\n",
       "      <th></th>\n",
       "      <th>0</th>\n",
       "      <th>1</th>\n",
       "      <th>2</th>\n",
       "      <th>3</th>\n",
       "      <th>4</th>\n",
       "      <th>5</th>\n",
       "      <th>6</th>\n",
       "      <th>7</th>\n",
       "      <th>8</th>\n",
       "      <th>9</th>\n",
       "      <th>...</th>\n",
       "      <th>390</th>\n",
       "      <th>391</th>\n",
       "      <th>392</th>\n",
       "      <th>393</th>\n",
       "      <th>394</th>\n",
       "      <th>395</th>\n",
       "      <th>396</th>\n",
       "      <th>397</th>\n",
       "      <th>398</th>\n",
       "      <th>399</th>\n",
       "    </tr>\n",
       "  </thead>\n",
       "  <tbody>\n",
       "    <tr>\n",
       "      <th>0</th>\n",
       "      <td>0</td>\n",
       "      <td>0</td>\n",
       "      <td>0</td>\n",
       "      <td>0</td>\n",
       "      <td>0</td>\n",
       "      <td>0</td>\n",
       "      <td>0</td>\n",
       "      <td>0</td>\n",
       "      <td>0</td>\n",
       "      <td>0</td>\n",
       "      <td>...</td>\n",
       "      <td>0</td>\n",
       "      <td>0</td>\n",
       "      <td>0</td>\n",
       "      <td>0</td>\n",
       "      <td>0</td>\n",
       "      <td>0</td>\n",
       "      <td>0</td>\n",
       "      <td>0</td>\n",
       "      <td>0</td>\n",
       "      <td>0</td>\n",
       "    </tr>\n",
       "    <tr>\n",
       "      <th>1</th>\n",
       "      <td>0</td>\n",
       "      <td>0</td>\n",
       "      <td>0</td>\n",
       "      <td>0</td>\n",
       "      <td>0</td>\n",
       "      <td>0</td>\n",
       "      <td>0</td>\n",
       "      <td>0</td>\n",
       "      <td>0</td>\n",
       "      <td>0</td>\n",
       "      <td>...</td>\n",
       "      <td>0</td>\n",
       "      <td>0</td>\n",
       "      <td>0</td>\n",
       "      <td>0</td>\n",
       "      <td>0</td>\n",
       "      <td>0</td>\n",
       "      <td>0</td>\n",
       "      <td>0</td>\n",
       "      <td>0</td>\n",
       "      <td>0</td>\n",
       "    </tr>\n",
       "    <tr>\n",
       "      <th>2</th>\n",
       "      <td>0</td>\n",
       "      <td>0</td>\n",
       "      <td>0</td>\n",
       "      <td>0</td>\n",
       "      <td>0</td>\n",
       "      <td>0</td>\n",
       "      <td>0</td>\n",
       "      <td>0</td>\n",
       "      <td>0</td>\n",
       "      <td>0</td>\n",
       "      <td>...</td>\n",
       "      <td>0</td>\n",
       "      <td>0</td>\n",
       "      <td>0</td>\n",
       "      <td>0</td>\n",
       "      <td>0</td>\n",
       "      <td>0</td>\n",
       "      <td>0</td>\n",
       "      <td>0</td>\n",
       "      <td>0</td>\n",
       "      <td>0</td>\n",
       "    </tr>\n",
       "    <tr>\n",
       "      <th>3</th>\n",
       "      <td>0</td>\n",
       "      <td>0</td>\n",
       "      <td>0</td>\n",
       "      <td>0</td>\n",
       "      <td>0</td>\n",
       "      <td>0</td>\n",
       "      <td>0</td>\n",
       "      <td>0</td>\n",
       "      <td>0</td>\n",
       "      <td>0</td>\n",
       "      <td>...</td>\n",
       "      <td>0</td>\n",
       "      <td>0</td>\n",
       "      <td>0</td>\n",
       "      <td>0</td>\n",
       "      <td>0</td>\n",
       "      <td>0</td>\n",
       "      <td>0</td>\n",
       "      <td>0</td>\n",
       "      <td>0</td>\n",
       "      <td>0</td>\n",
       "    </tr>\n",
       "    <tr>\n",
       "      <th>4</th>\n",
       "      <td>0</td>\n",
       "      <td>0</td>\n",
       "      <td>0</td>\n",
       "      <td>0</td>\n",
       "      <td>0</td>\n",
       "      <td>0</td>\n",
       "      <td>0</td>\n",
       "      <td>0</td>\n",
       "      <td>0</td>\n",
       "      <td>0</td>\n",
       "      <td>...</td>\n",
       "      <td>0</td>\n",
       "      <td>0</td>\n",
       "      <td>0</td>\n",
       "      <td>0</td>\n",
       "      <td>0</td>\n",
       "      <td>0</td>\n",
       "      <td>0</td>\n",
       "      <td>0</td>\n",
       "      <td>0</td>\n",
       "      <td>0</td>\n",
       "    </tr>\n",
       "  </tbody>\n",
       "</table>\n",
       "<p>5 rows × 400 columns</p>\n",
       "</div>"
      ],
      "text/plain": [
       "   0    1    2    3    4    5    6    7    8    9    ...  390  391  392  393  \\\n",
       "0    0    0    0    0    0    0    0    0    0    0  ...    0    0    0    0   \n",
       "1    0    0    0    0    0    0    0    0    0    0  ...    0    0    0    0   \n",
       "2    0    0    0    0    0    0    0    0    0    0  ...    0    0    0    0   \n",
       "3    0    0    0    0    0    0    0    0    0    0  ...    0    0    0    0   \n",
       "4    0    0    0    0    0    0    0    0    0    0  ...    0    0    0    0   \n",
       "\n",
       "   394  395  396  397  398  399  \n",
       "0    0    0    0    0    0    0  \n",
       "1    0    0    0    0    0    0  \n",
       "2    0    0    0    0    0    0  \n",
       "3    0    0    0    0    0    0  \n",
       "4    0    0    0    0    0    0  \n",
       "\n",
       "[5 rows x 400 columns]"
      ]
     },
     "execution_count": 25,
     "metadata": {},
     "output_type": "execute_result"
    }
   ],
   "source": [
    "# viewing the datasets\n",
    "test_x_bow.head()"
   ]
  },
  {
   "cell_type": "code",
   "execution_count": 26,
   "id": "a0bd6c87",
   "metadata": {},
   "outputs": [
    {
     "name": "stdout",
     "output_type": "stream",
     "text": [
      "Distribution of data in train and test data are \n",
      "For train data number of 0 are  0.6306953231585009\n",
      "For train data number of 1 are  0.3693046768414991\n",
      "**************************************************\n",
      "For test data number of 0 are  0.6316010784337975\n",
      "For test data number of 1 are  0.36839892156620246\n",
      "**************************************************\n",
      "For cv data number of 0 are  0.6302136474662214\n",
      "For cv data number of 1 are  0.36978635253377856\n"
     ]
    },
    {
     "data": {
      "image/png": "[encoded data removed]",
      "text/plain": [
       "<Figure size 1080x360 with 3 Axes>"
      ]
     },
     "metadata": {
      "needs_background": "light"
     },
     "output_type": "display_data"
    }
   ],
   "source": [
    "print(\"Distribution of data in train and test data are \")\n",
    "print(\"For train data number of 0 are \",(len(y_train[y_train==0]))/len(y_train))\n",
    "print(\"For train data number of 1 are \",(len(y_train[y_train==1]))/len(y_train))\n",
    "\n",
    "print(\"*\"* 50)\n",
    "\n",
    "print(\"For test data number of 0 are \",(len(y_test[y_test==0]))/len(y_test))\n",
    "print(\"For test data number of 1 are \",(len(y_test[y_test==1]))/len(y_test))\n",
    "\n",
    "print(\"*\"* 50)\n",
    "\n",
    "print(\"For cv data number of 0 are \",(len(y_cv[y_cv==0]))/len(y_cv))\n",
    "print(\"For cv data number of 1 are \",(len(y_cv[y_cv==1]))/len(y_cv))\n",
    "\n",
    "plt.figure(figsize=(15,5))\n",
    "plt.subplot(131)\n",
    "plt.title(\"Train Distribution \")\n",
    "sns.countplot(x=y_train)\n",
    "plt.subplot(132)\n",
    "plt.title(\"Test Distribution \")\n",
    "sns.countplot(x=y_test)\n",
    "plt.subplot(133)\n",
    "plt.title(\"cv Distribution \")\n",
    "sns.countplot(x=y_cv)\n",
    "plt.show()"
   ]
  },
  {
   "cell_type": "code",
   "execution_count": 6,
   "id": "d43d134e",
   "metadata": {},
   "outputs": [],
   "source": [
    "# draw the performance matrix\n",
    "from sklearn.metrics import confusion_matrix\n",
    "\n",
    "def plot_confusion_matrix(y_train,y_pred):\n",
    "    \n",
    "    matrix = confusion_matrix(y_train,y_pred)\n",
    "    \n",
    "    \n",
    "    # axis = 0  means column addition\n",
    "    # axis = 1 means row addition\n",
    "    \n",
    "    # where numpy divides the  number in column basic\n",
    "    \n",
    "    # precision matrix \n",
    "        # precision is defined as out of all the prediction how my is classifed as the right \n",
    "        \n",
    "    precision = (matrix.T/matrix.sum(axis=1)).T\n",
    "    \n",
    "    # recall matrix \n",
    "        # recall  is defined as out of all the true value how many are truely classified \n",
    "     \n",
    "    recall = matrix/matrix.sum(axis=0)\n",
    "    \n",
    "    plt.figure(figsize=(20,5))\n",
    "    \n",
    "    plt.subplot(1,3,1)\n",
    "    plt.title(\"Confusion Matrix\")\n",
    "    sns.heatmap(matrix,annot=True,fmt=\".3f\",cmap=\"YlGnBu\")\n",
    "    plt.xlabel(\"predicted \")\n",
    "    plt.ylabel(\"actual\")\n",
    "    \n",
    "    \n",
    "    \"\"\"\n",
    "    Precision matrix\n",
    "    \"\"\"\n",
    "    plt.subplot(1,3,2)\n",
    "    plt.title(\"Recall Matrix\")\n",
    "    sns.heatmap(precision,annot=True,fmt=\".3f\",cmap=\"YlGnBu\")\n",
    "    plt.xlabel(\"predicted \")\n",
    "    plt.ylabel(\"actual\")\n",
    "    \n",
    "    \"\"\"\n",
    "    Recall matrix\n",
    "    \"\"\"\n",
    "    \n",
    "    \n",
    "    plt.subplot(1,3,3)\n",
    "    plt.title(\"Precision Matrix\")\n",
    "    sns.heatmap(recall,annot=True,fmt=\".3f\",cmap=\"YlGnBu\")\n",
    "    plt.xlabel(\"predicted \")\n",
    "    plt.ylabel(\"actual\")\n",
    "    \n",
    "    plt.show()\n",
    "    \n",
    "    \n",
    "    \n",
    "    "
   ]
  },
  {
   "cell_type": "markdown",
   "id": "f4b52fc9",
   "metadata": {},
   "source": [
    "### Random Model"
   ]
  },
  {
   "cell_type": "code",
   "execution_count": 28,
   "id": "65f40db0",
   "metadata": {},
   "outputs": [
    {
     "name": "stdout",
     "output_type": "stream",
     "text": [
      "The testing loss for Random Model:  0.8876563673424414\n"
     ]
    },
    {
     "data": {
      "image/png": "[encoded data removed]",
      "text/plain": [
       "<Figure size 1440x360 with 6 Axes>"
      ]
     },
     "metadata": {
      "needs_background": "light"
     },
     "output_type": "display_data"
    }
   ],
   "source": [
    "# lets build a random model which randomly picks the values.\n",
    "# it become threshold for our model \n",
    "\n",
    "y_rand = np.zeros((y_test.shape[0],2))\n",
    "for i in range(y_rand.shape[0]):\n",
    "    rand_int = np.random.rand(1,2)\n",
    "    y_rand[i] = rand_int[0]/sum(rand_int[0])\n",
    "    \n",
    "# evaluating the loss of random model\n",
    "print(\"The testing loss for Random Model: \",log_loss(y_test,y_rand))\n",
    "pred_rand = np.argmax(y_rand,axis=1)\n",
    "plot_confusion_matrix(y_test,pred_rand)"
   ]
  },
  {
   "cell_type": "markdown",
   "id": "aed239b6",
   "metadata": {},
   "source": [
    "#### How does our feature perform to give correct output?\n",
    "\n",
    "- __Text Feature : BOW__\n"
   ]
  },
  {
   "cell_type": "code",
   "execution_count": 7,
   "id": "925f1bae",
   "metadata": {},
   "outputs": [],
   "source": [
    "from datetime import datetime\n",
    "from tqdm import tqdm\n",
    "\n",
    "alpha = [10**i for i in range(-5,0)]\n",
    "\n",
    "# since model we using is logistic Regression \n",
    "# so using calibrated output ie sigmoid function.\n",
    "# for better probolistic result.\n",
    "def model(alpha,x_train,y_train,x_cv,y_cv,x_test,y_test): \n",
    "    loss = []\n",
    "    print(\"Started ....\")\n",
    "    start_time = datetime.now()\n",
    "    for i in tqdm(alpha):\n",
    "        clf = SGDClassifier(alpha=i,loss=\"log\")\n",
    "        clf.fit(x_train,y_train)\n",
    "        # for the log loss we use calibrated model to get the actural probability \n",
    "        sig_cal = CalibratedClassifierCV(clf,method=\"sigmoid\")\n",
    "        \n",
    "        sig_cal.fit(x_train,y_train)\n",
    "        predicted_y = sig_cal.predict_proba(x_cv)\n",
    "        loss_val = log_loss(y_cv,predicted_y)\n",
    "        loss.append(loss_val)\n",
    "        print(\"The log loss for the {} value of alpha is {}\".format(i,loss_val))\n",
    "     \n",
    "    print(\"\\n\")\n",
    "    print(\"*\"*50)\n",
    "    print(\"\\n\")\n",
    "    best_score = np.argmin(loss)\n",
    "    best_alpha = alpha[best_score]\n",
    "\n",
    "    print(\"Traning in the best alpha :\")\n",
    "    \n",
    "    clf = SGDClassifier(alpha=best_alpha,loss=\"log\")\n",
    "    clf.fit(x_train,y_train)\n",
    "    sig_cal = CalibratedClassifierCV(clf,method=\"sigmoid\")\n",
    "    sig_cal.fit(x_train,y_train)\n",
    "    predicted_y_train = sig_cal.predict_proba(x_train)\n",
    "    loss_val_train = log_loss(y_train,predicted_y_train)\n",
    "    print(\"For {} value of alpha train Loss is : {}\".format(best_alpha,loss_val_train))\n",
    "\n",
    "    predicted_y_test = sig_cal.predict_proba(x_test)\n",
    "    loss_val_test = log_loss(y_test,predicted_y_test)\n",
    "    print(\"For {} value of alpha test Loss is : {}\".format(best_alpha,loss_val_test))\n",
    "\n",
    "    predicted_y_cv = sig_cal.predict_proba(x_cv)\n",
    "    loss_val_cv = log_loss(y_cv,predicted_y_cv)\n",
    "    print(\"For {} value of alpha cv Loss is : {}\".format(best_alpha,loss_val_cv))\n",
    "    \n",
    "    #### plot the confusion matrix\n",
    "    print(\"Confusion matrix for test : \")\n",
    "    pred_test = sig_cal.predict(x_test)\n",
    "    plot_confusion_matrix(y_test,pred_test)\n",
    "    \n",
    "    print(\"Done...\")\n",
    "    print(\"Total time taken : \",datetime.now()-start_time)\n"
   ]
  },
  {
   "cell_type": "code",
   "execution_count": 133,
   "id": "89d510d5",
   "metadata": {},
   "outputs": [
    {
     "name": "stdout",
     "output_type": "stream",
     "text": [
      "Started ....\n",
      "The log loss for the 1e-05 value of alpha is 0.6065702983150493\n",
      "The log loss for the 0.0001 value of alpha is 0.6058214505662012\n",
      "The log loss for the 0.001 value of alpha is 0.6068273803636665\n",
      "The log loss for the 0.01 value of alpha is 0.6154052235531368\n",
      "The log loss for the 0.1 value of alpha is 0.6269166049897925\n",
      "The log loss for the 1 value of alpha is 0.6295135062482099\n",
      "The log loss for the 10 value of alpha is 0.6291320473324139\n",
      "The log loss for the 100 value of alpha is 0.636708301137953\n",
      "The log loss for the 1000 value of alpha is 0.639509244214597\n",
      "The log loss for the 10000 value of alpha is 0.6446205548021255\n",
      "\n",
      "\n",
      "**************************************************\n",
      "\n",
      "\n",
      "Traning in the best alpha :\n",
      "For 0.0001 value of alpha train Loss is : 0.6414887444926382\n",
      "For 0.0001 value of alpha test Loss is : 0.6408673549343401\n",
      "For 0.0001 value of alpha cv Loss is : 0.6447318331846511\n",
      "Confusion matrix for test : \n"
     ]
    },
    {
     "data": {
      "image/png": "[encoded data removed]",
      "text/plain": [
       "<Figure size 1440x360 with 6 Axes>"
      ]
     },
     "metadata": {
      "needs_background": "light"
     },
     "output_type": "display_data"
    },
    {
     "name": "stdout",
     "output_type": "stream",
     "text": [
      "Done...\n",
      "Total time taken :  0:09:17.032728\n"
     ]
    }
   ],
   "source": [
    "model(alpha,train_x_bow,y_train,cv_x_bow,y_cv,test_x_bow,y_test)"
   ]
  },
  {
   "cell_type": "code",
   "execution_count": 137,
   "id": "cb6d6a1e",
   "metadata": {},
   "outputs": [
    {
     "name": "stdout",
     "output_type": "stream",
     "text": [
      "Started ....\n",
      "The log loss for the 0.0001 value of alpha is 0.6057900577629636\n",
      "\n",
      "\n",
      "**************************************************\n",
      "\n",
      "\n",
      "Traning in the best alpha :\n",
      "For 0.0001 value of alpha train Loss is : 0.601240701957354\n",
      "For 0.0001 value of alpha test Loss is : 0.5996976220731198\n",
      "For 0.0001 value of alpha cv Loss is : 0.605848024347283\n",
      "Confusion matrix for test : \n"
     ]
    },
    {
     "data": {
      "image/png": "[encoded data removed]",
      "text/plain": [
       "<Figure size 1440x360 with 6 Axes>"
      ]
     },
     "metadata": {
      "needs_background": "light"
     },
     "output_type": "display_data"
    },
    {
     "name": "stdout",
     "output_type": "stream",
     "text": [
      "Done...\n",
      "Total time taken :  0:01:49.574252\n"
     ]
    }
   ],
   "source": [
    "alpha=[best_alpha]\n",
    "model(alpha,train_x_bow,y_train,cv_x_bow,y_cv,test_x_bow,y_test)"
   ]
  },
  {
   "cell_type": "markdown",
   "id": "dd647849",
   "metadata": {},
   "source": [
    "### Using TFIDF Features ..."
   ]
  },
  {
   "cell_type": "code",
   "execution_count": 31,
   "id": "6096e332",
   "metadata": {},
   "outputs": [
    {
     "name": "stdout",
     "output_type": "stream",
     "text": [
      "Started ....\n"
     ]
    },
    {
     "name": "stderr",
     "output_type": "stream",
     "text": [
      " 20%|████████████████▊                                                                   | 1/5 [00:29<01:57, 29.37s/it]"
     ]
    },
    {
     "name": "stdout",
     "output_type": "stream",
     "text": [
      "The log loss for the 1e-05 value of alpha is 0.6060539777742793\n"
     ]
    },
    {
     "name": "stderr",
     "output_type": "stream",
     "text": [
      "\r",
      " 40%|█████████████████████████████████▌                                                  | 2/5 [00:46<01:07, 22.45s/it]"
     ]
    },
    {
     "name": "stdout",
     "output_type": "stream",
     "text": [
      "The log loss for the 0.0001 value of alpha is 0.6052615714043431\n"
     ]
    },
    {
     "name": "stderr",
     "output_type": "stream",
     "text": [
      "\r",
      " 60%|██████████████████████████████████████████████████▍                                 | 3/5 [01:01<00:37, 18.95s/it]"
     ]
    },
    {
     "name": "stdout",
     "output_type": "stream",
     "text": [
      "The log loss for the 0.001 value of alpha is 0.6062737747437658\n"
     ]
    },
    {
     "name": "stderr",
     "output_type": "stream",
     "text": [
      "\r",
      " 80%|███████████████████████████████████████████████████████████████████▏                | 4/5 [01:15<00:16, 16.89s/it]"
     ]
    },
    {
     "name": "stdout",
     "output_type": "stream",
     "text": [
      "The log loss for the 0.01 value of alpha is 0.6144639148540039\n"
     ]
    },
    {
     "name": "stderr",
     "output_type": "stream",
     "text": [
      "100%|████████████████████████████████████████████████████████████████████████████████████| 5/5 [01:29<00:00, 17.80s/it]"
     ]
    },
    {
     "name": "stdout",
     "output_type": "stream",
     "text": [
      "The log loss for the 0.1 value of alpha is 0.625597304275181\n",
      "\n",
      "\n",
      "**************************************************\n",
      "\n",
      "\n",
      "Traning in the best alpha :\n"
     ]
    },
    {
     "name": "stderr",
     "output_type": "stream",
     "text": [
      "\n"
     ]
    },
    {
     "name": "stdout",
     "output_type": "stream",
     "text": [
      "For 0.0001 value of alpha train Loss is : 0.6006730135209997\n",
      "For 0.0001 value of alpha test Loss is : 0.6017437728925792\n",
      "For 0.0001 value of alpha cv Loss is : 0.6053816261233625\n",
      "Confusion matrix for test : \n"
     ]
    },
    {
     "data": {
      "image/png": "[encoded data removed]",
      "text/plain": [
       "<Figure size 1440x360 with 6 Axes>"
      ]
     },
     "metadata": {
      "needs_background": "light"
     },
     "output_type": "display_data"
    },
    {
     "name": "stdout",
     "output_type": "stream",
     "text": [
      "Done...\n",
      "Total time taken :  0:01:50.525857\n"
     ]
    }
   ],
   "source": [
    "model(alpha,train_x_tfidf,y_train,cv_x_tfidf,y_cv,test_x_tfidf,y_test)"
   ]
  },
  {
   "cell_type": "code",
   "execution_count": 35,
   "id": "5adffd42",
   "metadata": {},
   "outputs": [
    {
     "name": "stderr",
     "output_type": "stream",
     "text": [
      "c:\\users\\dell\\appdata\\local\\programs\\python\\python39\\lib\\site-packages\\pandas\\core\\frame.py:4901: SettingWithCopyWarning: \n",
      "A value is trying to be set on a copy of a slice from a DataFrame\n",
      "\n",
      "See the caveats in the documentation: https://pandas.pydata.org/pandas-docs/stable/user_guide/indexing.html#returning-a-view-versus-a-copy\n",
      "  return super().drop(\n"
     ]
    }
   ],
   "source": [
    "drop_col = [\"id\",\"qid1\",\"question1\",\"question2\",\"qid2\"]\n",
    "train_df.drop(columns=drop_col,inplace=True)"
   ]
  },
  {
   "cell_type": "code",
   "execution_count": 38,
   "id": "0d1a0075",
   "metadata": {},
   "outputs": [
    {
     "name": "stderr",
     "output_type": "stream",
     "text": [
      "c:\\users\\dell\\appdata\\local\\programs\\python\\python39\\lib\\site-packages\\pandas\\core\\frame.py:4901: SettingWithCopyWarning: \n",
      "A value is trying to be set on a copy of a slice from a DataFrame\n",
      "\n",
      "See the caveats in the documentation: https://pandas.pydata.org/pandas-docs/stable/user_guide/indexing.html#returning-a-view-versus-a-copy\n",
      "  return super().drop(\n"
     ]
    },
    {
     "data": {
      "text/html": [
       "<div>\n",
       "<style scoped>\n",
       "    .dataframe tbody tr th:only-of-type {\n",
       "        vertical-align: middle;\n",
       "    }\n",
       "\n",
       "    .dataframe tbody tr th {\n",
       "        vertical-align: top;\n",
       "    }\n",
       "\n",
       "    .dataframe thead th {\n",
       "        text-align: right;\n",
       "    }\n",
       "</style>\n",
       "<table border=\"1\" class=\"dataframe\">\n",
       "  <thead>\n",
       "    <tr style=\"text-align: right;\">\n",
       "      <th></th>\n",
       "      <th>freq1</th>\n",
       "      <th>freq2</th>\n",
       "      <th>common</th>\n",
       "    </tr>\n",
       "  </thead>\n",
       "  <tbody>\n",
       "    <tr>\n",
       "      <th>14912</th>\n",
       "      <td>2</td>\n",
       "      <td>1</td>\n",
       "      <td>0.307692</td>\n",
       "    </tr>\n",
       "    <tr>\n",
       "      <th>399019</th>\n",
       "      <td>1</td>\n",
       "      <td>1</td>\n",
       "      <td>0.133333</td>\n",
       "    </tr>\n",
       "    <tr>\n",
       "      <th>303111</th>\n",
       "      <td>1</td>\n",
       "      <td>2</td>\n",
       "      <td>0.357143</td>\n",
       "    </tr>\n",
       "    <tr>\n",
       "      <th>7392</th>\n",
       "      <td>1</td>\n",
       "      <td>1</td>\n",
       "      <td>0.125000</td>\n",
       "    </tr>\n",
       "    <tr>\n",
       "      <th>274699</th>\n",
       "      <td>1</td>\n",
       "      <td>5</td>\n",
       "      <td>0.200000</td>\n",
       "    </tr>\n",
       "  </tbody>\n",
       "</table>\n",
       "</div>"
      ],
      "text/plain": [
       "        freq1  freq2    common\n",
       "14912       2      1  0.307692\n",
       "399019      1      1  0.133333\n",
       "303111      1      2  0.357143\n",
       "7392        1      1  0.125000\n",
       "274699      1      5  0.200000"
      ]
     },
     "execution_count": 38,
     "metadata": {},
     "output_type": "execute_result"
    }
   ],
   "source": [
    "train_df.drop(columns=['qid2'],inplace=True)\n",
    "train_df.head()"
   ]
  },
  {
   "cell_type": "code",
   "execution_count": 40,
   "id": "93636d56",
   "metadata": {},
   "outputs": [
    {
     "name": "stderr",
     "output_type": "stream",
     "text": [
      "C:\\Users\\dell\\AppData\\Local\\Temp/ipykernel_19644/1194174924.py:3: SettingWithCopyWarning: \n",
      "A value is trying to be set on a copy of a slice from a DataFrame.\n",
      "Try using .loc[row_indexer,col_indexer] = value instead\n",
      "\n",
      "See the caveats in the documentation: https://pandas.pydata.org/pandas-docs/stable/user_guide/indexing.html#returning-a-view-versus-a-copy\n",
      "  train_df[\"ids\"] = ids\n"
     ]
    }
   ],
   "source": [
    "## Stacking the final dataframe \n",
    "# ids = [i for i in range(train_df.shape[0])]\n",
    "# train_df[\"ids\"] = ids"
   ]
  },
  {
   "cell_type": "code",
   "execution_count": 52,
   "id": "f495778a",
   "metadata": {},
   "outputs": [
    {
     "name": "stderr",
     "output_type": "stream",
     "text": [
      "c:\\users\\dell\\appdata\\local\\programs\\python\\python39\\lib\\site-packages\\pandas\\core\\frame.py:4901: SettingWithCopyWarning: \n",
      "A value is trying to be set on a copy of a slice from a DataFrame\n",
      "\n",
      "See the caveats in the documentation: https://pandas.pydata.org/pandas-docs/stable/user_guide/indexing.html#returning-a-view-versus-a-copy\n",
      "  return super().drop(\n"
     ]
    },
    {
     "data": {
      "text/html": [
       "<div>\n",
       "<style scoped>\n",
       "    .dataframe tbody tr th:only-of-type {\n",
       "        vertical-align: middle;\n",
       "    }\n",
       "\n",
       "    .dataframe tbody tr th {\n",
       "        vertical-align: top;\n",
       "    }\n",
       "\n",
       "    .dataframe thead th {\n",
       "        text-align: right;\n",
       "    }\n",
       "</style>\n",
       "<table border=\"1\" class=\"dataframe\">\n",
       "  <thead>\n",
       "    <tr style=\"text-align: right;\">\n",
       "      <th></th>\n",
       "      <th>qid2</th>\n",
       "      <th>freq1</th>\n",
       "      <th>freq2</th>\n",
       "      <th>common</th>\n",
       "    </tr>\n",
       "  </thead>\n",
       "  <tbody>\n",
       "    <tr>\n",
       "      <th>47421</th>\n",
       "      <td>57176</td>\n",
       "      <td>4</td>\n",
       "      <td>2</td>\n",
       "      <td>0.357143</td>\n",
       "    </tr>\n",
       "    <tr>\n",
       "      <th>245542</th>\n",
       "      <td>358401</td>\n",
       "      <td>1</td>\n",
       "      <td>1</td>\n",
       "      <td>0.272727</td>\n",
       "    </tr>\n",
       "    <tr>\n",
       "      <th>73001</th>\n",
       "      <td>125330</td>\n",
       "      <td>1</td>\n",
       "      <td>1</td>\n",
       "      <td>0.166667</td>\n",
       "    </tr>\n",
       "    <tr>\n",
       "      <th>280699</th>\n",
       "      <td>128200</td>\n",
       "      <td>5</td>\n",
       "      <td>4</td>\n",
       "      <td>0.363636</td>\n",
       "    </tr>\n",
       "    <tr>\n",
       "      <th>42504</th>\n",
       "      <td>76581</td>\n",
       "      <td>1</td>\n",
       "      <td>1</td>\n",
       "      <td>0.307692</td>\n",
       "    </tr>\n",
       "  </tbody>\n",
       "</table>\n",
       "</div>"
      ],
      "text/plain": [
       "          qid2  freq1  freq2    common\n",
       "47421    57176      4      2  0.357143\n",
       "245542  358401      1      1  0.272727\n",
       "73001   125330      1      1  0.166667\n",
       "280699  128200      5      4  0.363636\n",
       "42504    76581      1      1  0.307692"
      ]
     },
     "execution_count": 52,
     "metadata": {},
     "output_type": "execute_result"
    }
   ],
   "source": [
    "test_x.drop(columns=drop_col,inplace=True)\n",
    "test_x.head()"
   ]
  },
  {
   "cell_type": "code",
   "execution_count": 53,
   "id": "28b9336f",
   "metadata": {},
   "outputs": [
    {
     "name": "stderr",
     "output_type": "stream",
     "text": [
      "c:\\users\\dell\\appdata\\local\\programs\\python\\python39\\lib\\site-packages\\pandas\\core\\frame.py:4901: SettingWithCopyWarning: \n",
      "A value is trying to be set on a copy of a slice from a DataFrame\n",
      "\n",
      "See the caveats in the documentation: https://pandas.pydata.org/pandas-docs/stable/user_guide/indexing.html#returning-a-view-versus-a-copy\n",
      "  return super().drop(\n"
     ]
    }
   ],
   "source": [
    "test_x.drop(columns=[\"qid2\"],inplace=True)"
   ]
  },
  {
   "cell_type": "code",
   "execution_count": 54,
   "id": "fa321ebe",
   "metadata": {},
   "outputs": [
    {
     "data": {
      "text/html": [
       "<div>\n",
       "<style scoped>\n",
       "    .dataframe tbody tr th:only-of-type {\n",
       "        vertical-align: middle;\n",
       "    }\n",
       "\n",
       "    .dataframe tbody tr th {\n",
       "        vertical-align: top;\n",
       "    }\n",
       "\n",
       "    .dataframe thead th {\n",
       "        text-align: right;\n",
       "    }\n",
       "</style>\n",
       "<table border=\"1\" class=\"dataframe\">\n",
       "  <thead>\n",
       "    <tr style=\"text-align: right;\">\n",
       "      <th></th>\n",
       "      <th>freq1</th>\n",
       "      <th>freq2</th>\n",
       "      <th>common</th>\n",
       "    </tr>\n",
       "  </thead>\n",
       "  <tbody>\n",
       "    <tr>\n",
       "      <th>47421</th>\n",
       "      <td>4</td>\n",
       "      <td>2</td>\n",
       "      <td>0.357143</td>\n",
       "    </tr>\n",
       "    <tr>\n",
       "      <th>245542</th>\n",
       "      <td>1</td>\n",
       "      <td>1</td>\n",
       "      <td>0.272727</td>\n",
       "    </tr>\n",
       "    <tr>\n",
       "      <th>73001</th>\n",
       "      <td>1</td>\n",
       "      <td>1</td>\n",
       "      <td>0.166667</td>\n",
       "    </tr>\n",
       "    <tr>\n",
       "      <th>280699</th>\n",
       "      <td>5</td>\n",
       "      <td>4</td>\n",
       "      <td>0.363636</td>\n",
       "    </tr>\n",
       "    <tr>\n",
       "      <th>42504</th>\n",
       "      <td>1</td>\n",
       "      <td>1</td>\n",
       "      <td>0.307692</td>\n",
       "    </tr>\n",
       "  </tbody>\n",
       "</table>\n",
       "</div>"
      ],
      "text/plain": [
       "        freq1  freq2    common\n",
       "47421       4      2  0.357143\n",
       "245542      1      1  0.272727\n",
       "73001       1      1  0.166667\n",
       "280699      5      4  0.363636\n",
       "42504       1      1  0.307692"
      ]
     },
     "execution_count": 54,
     "metadata": {},
     "output_type": "execute_result"
    }
   ],
   "source": [
    "test_x.head()"
   ]
  },
  {
   "cell_type": "code",
   "execution_count": 56,
   "id": "99055f51",
   "metadata": {},
   "outputs": [
    {
     "name": "stderr",
     "output_type": "stream",
     "text": [
      "c:\\users\\dell\\appdata\\local\\programs\\python\\python39\\lib\\site-packages\\pandas\\core\\frame.py:4901: SettingWithCopyWarning: \n",
      "A value is trying to be set on a copy of a slice from a DataFrame\n",
      "\n",
      "See the caveats in the documentation: https://pandas.pydata.org/pandas-docs/stable/user_guide/indexing.html#returning-a-view-versus-a-copy\n",
      "  return super().drop(\n"
     ]
    }
   ],
   "source": [
    "cv_df.head()\n",
    "cv_df.drop(columns=drop_col,inplace=True)\n",
    "cv_df.drop(columns=['qid2'],inplace=True)"
   ]
  },
  {
   "cell_type": "code",
   "execution_count": 28,
   "id": "7bf49d53",
   "metadata": {},
   "outputs": [
    {
     "ename": "NameError",
     "evalue": "name 'cv_df' is not defined",
     "output_type": "error",
     "traceback": [
      "\u001b[1;31m---------------------------------------------------------------------------\u001b[0m",
      "\u001b[1;31mNameError\u001b[0m                                 Traceback (most recent call last)",
      "\u001b[1;32m~\\AppData\\Local\\Temp/ipykernel_11648/1453815043.py\u001b[0m in \u001b[0;36m<module>\u001b[1;34m\u001b[0m\n\u001b[1;32m----> 1\u001b[1;33m \u001b[0mcv_df\u001b[0m\u001b[1;33m.\u001b[0m\u001b[0mhead\u001b[0m\u001b[1;33m(\u001b[0m\u001b[1;33m)\u001b[0m\u001b[1;33m\u001b[0m\u001b[1;33m\u001b[0m\u001b[0m\n\u001b[0m",
      "\u001b[1;31mNameError\u001b[0m: name 'cv_df' is not defined"
     ]
    }
   ],
   "source": [
    "cv_df.head()"
   ]
  },
  {
   "cell_type": "markdown",
   "id": "6fc257d1",
   "metadata": {},
   "source": [
    "### Stacking \n",
    "\n",
    "- __ONE-HOT-ENCODING__ : BOW\n",
    "- __TFIDF__ :"
   ]
  },
  {
   "cell_type": "code",
   "execution_count": 74,
   "id": "4771430a",
   "metadata": {},
   "outputs": [
    {
     "name": "stdout",
     "output_type": "stream",
     "text": [
      "Stacking the data ....\n",
      "DOne....\n",
      "Total time taken :  0:00:28.277915\n"
     ]
    }
   ],
   "source": [
    "print(\"Stacking the data ....\")\n",
    "start_time = datetime.now()\n",
    "# for bow\n",
    "train_df = np.array(train_df)\n",
    "test_df = np.array(test_x)\n",
    "cv_df = np.array(cv_df)\n",
    "\n",
    "train_x_onehotencoding = np.hstack((train_df,train_x_bow))\n",
    "test_x_onehotencoding = np.hstack((test_df,test_x_bow))\n",
    "cv_x_onehotencoding = np.hstack((cv_df,cv_x_bow))\n",
    "\n",
    "# for tfidf\n",
    "train_x_tfidf = np.hstack((train_df,train_x_tfidf))\n",
    "test_x_tfidf = np.hstack((test_df,test_x_tfidf))\n",
    "cv_x_tfidf = np.hstack((cv_df,cv_x_tfidf))\n",
    "\n",
    "# preparing final csv file \n",
    "\n",
    "# for bow\n",
    "train_x_onehotencoding = pd.DataFrame(train_x_onehotencoding)\n",
    "test_x_onehotencoding = pd.DataFrame(test_x_onehotencoding)\n",
    "cv_x_onehotencoding = pd.DataFrame(cv_x_onehotencoding)\n",
    "\n",
    "# FOr labels\n",
    "y_train = pd.DataFrame(y_train)\n",
    "y_test = pd.DataFrame(y_test)\n",
    "y_cv = pd.DataFrame(y_cv)\n",
    "\n",
    "# for tfidf\n",
    "train_x_tfidf = pd.DataFrame(train_x_tfidf)\n",
    "test_x_tfidf = pd.DataFrame(test_x_tfidf)\n",
    "cv_x_tfidf = pd.DataFrame(cv_x_tfidf)\n",
    "\n",
    "print(\"DOne....\")\n",
    "print(\"Total time taken : \",datetime.now()-start_time)"
   ]
  },
  {
   "cell_type": "code",
   "execution_count": 75,
   "id": "96bc93ed",
   "metadata": {},
   "outputs": [
    {
     "name": "stdout",
     "output_type": "stream",
     "text": [
      "Saving the Processed File ...\n",
      "Done..\n",
      "Total time taken :  0:05:01.506598\n"
     ]
    }
   ],
   "source": [
    "print(\"Saving the Processed File ...\")\n",
    "start_time = datetime.now()\n",
    "\n",
    "# for bow\n",
    "train_x_onehotencoding.to_csv(\"train_x_onehotencoding.csv\")\n",
    "test_x_onehotencoding.to_csv(\"test_x_onehotencoding.csv\")\n",
    "cv_x_onehotencoding.to_csv(\"cv_x_onehotencoding.csv\")\n",
    "\n",
    "# FOr labels\n",
    "y_train.to_csv(\"y_train.csv\")\n",
    "y_test.to_csv(\"y_test.csv\")\n",
    "y_cv.to_csv(\"y_cv.csv\")\n",
    "\n",
    "# for tfidf\n",
    "train_x_tfidf.to_csv(\"train_x_tfidf.csv\")\n",
    "test_x_tfidf.to_csv(\"test_x_tfidf.csv\")\n",
    "cv_x_tfidf.to_csv(\"cv_x_tfidf.csv\")\n",
    "\n",
    "print(\"Done..\")\n",
    "print(\"Total time taken : \",datetime.now()-start_time)"
   ]
  },
  {
   "cell_type": "code",
   "execution_count": 40,
   "id": "6465c185",
   "metadata": {},
   "outputs": [
    {
     "name": "stdout",
     "output_type": "stream",
     "text": [
      "Reading .... \n",
      "Reading Bow : \n",
      "Done.... \n",
      "Reading Label ...\n",
      "Done ....\n",
      "Reading Tfidf ....\n",
      "Done...\n",
      "Total time taken :  0:01:04.254803\n"
     ]
    }
   ],
   "source": [
    "## Reading the final files\n",
    "print(\"Reading .... \")\n",
    "start_time = datetime.now()\n",
    "# for bow\n",
    "print(\"Reading Bow : \")\n",
    "train_x_onehotencoding = pd.read_csv(\"train_x_onehotencoding.csv\",index_col=[0])\n",
    "test_x_onehotencoding= pd.read_csv(\"test_x_onehotencoding.csv\",index_col=[0])\n",
    "cv_x_onehotencoding= pd.read_csv(\"cv_x_onehotencoding.csv\",index_col=[0])\n",
    "\n",
    "print(\"Done.... \")\n",
    "print(\"Reading Label ...\")\n",
    "# FOr labels\n",
    "y_train = pd.read_csv(\"y_train.csv\",index_col=[0])\n",
    "y_test = pd.read_csv(\"y_test.csv\",index_col=[0])\n",
    "y_cv = pd.read_csv(\"y_cv.csv\",index_col=[0])\n",
    "print(\"Done ....\")\n",
    "# for tfidf\n",
    "print(\"Reading Tfidf ....\")\n",
    "train_x_tfidf = pd.read_csv(\"train_x_tfidf.csv\",index_col=[0])\n",
    "test_x_tfidf = pd.read_csv(\"test_x_tfidf.csv\",index_col=[0])\n",
    "cv_x_tfidf = pd.read_csv(\"cv_x_tfidf.csv\",index_col=[0])\n",
    "print(\"Done...\")\n",
    "print(\"Total time taken : \",datetime.now()-start_time)"
   ]
  },
  {
   "cell_type": "code",
   "execution_count": 41,
   "id": "6815419c",
   "metadata": {},
   "outputs": [
    {
     "name": "stdout",
     "output_type": "stream",
     "text": [
      "Size of training :  (258743, 403)\n",
      "Size of testing :  (80858, 403)\n",
      "Size of cv :  (64686, 403)\n"
     ]
    }
   ],
   "source": [
    "print(\"Size of training : \",train_x_onehotencoding.shape)\n",
    "print(\"Size of testing : \",test_x_onehotencoding.shape)\n",
    "print(\"Size of cv : \",cv_x_onehotencoding.shape)"
   ]
  },
  {
   "cell_type": "code",
   "execution_count": 42,
   "id": "fc3c0b03",
   "metadata": {},
   "outputs": [],
   "source": [
    "# forming the numpy array \n",
    "train_x_tfidf = np.array(train_x_tfidf)\n",
    "test_x_tfidf = np.array(test_x_tfidf)\n",
    "cv_x_tfidf = np.array(cv_x_tfidf)\n",
    "\n",
    "y_cv = np.array(y_cv).ravel()\n",
    "y_test = np.array(y_test).ravel()\n",
    "y_train = np.array(y_train).ravel()\n",
    "\n",
    "cv_x_onehotencoding = np.array(cv_x_onehotencoding)\n",
    "test_x_onehotencoding = np.array(test_x_onehotencoding)\n",
    "train_x_onehotencoding  = np.array(train_x_onehotencoding)"
   ]
  },
  {
   "cell_type": "markdown",
   "id": "280e5668",
   "metadata": {},
   "source": [
    "### Building model \n",
    "- __Logistic Regression__\n",
    "- __alpha for hyper parameter__\n",
    "\n",
    "\n",
    "\n",
    "##### ONE HOT ENCODING "
   ]
  },
  {
   "cell_type": "code",
   "execution_count": 33,
   "id": "a77e450f",
   "metadata": {},
   "outputs": [],
   "source": [
    "# train_x_onehotencoding = train_x_onehotencoding[:10000]\n",
    "# test_x_onehotencoding = test_x_onehotencoding[:10000]\n",
    "# cv_x_onehotencoding = cv_x_onehotencoding[:10000]\n",
    "\n",
    "# y_train = y_train[:10000]\n",
    "# y_test = y_test[:10000]\n",
    "# y_cv = y_cv[:10000]\n"
   ]
  },
  {
   "cell_type": "code",
   "execution_count": 36,
   "id": "393b9f47",
   "metadata": {},
   "outputs": [
    {
     "data": {
      "text/plain": [
       "(10000, 403)"
      ]
     },
     "execution_count": 36,
     "metadata": {},
     "output_type": "execute_result"
    }
   ],
   "source": [
    "test_x_onehotencoding.shape"
   ]
  },
  {
   "cell_type": "code",
   "execution_count": 43,
   "id": "5f1a62b2",
   "metadata": {},
   "outputs": [
    {
     "name": "stdout",
     "output_type": "stream",
     "text": [
      "For values of alpha =  1e-05 The log loss is: 0.5062070784231154\n",
      "For values of alpha =  0.0001 The log loss is: 0.4939950557655662\n",
      "For values of alpha =  0.001 The log loss is: 0.4950237877946008\n",
      "For values of alpha =  0.01 The log loss is: 0.5385763904582748\n",
      "For values of alpha =  0.1 The log loss is: 0.5726304328669087\n",
      "For values of alpha =  1 The log loss is: 0.5819160295016856\n"
     ]
    },
    {
     "data": {
      "image/png": "[encoded data removed]",
      "text/plain": [
       "<Figure size 432x288 with 1 Axes>"
      ]
     },
     "metadata": {
      "needs_background": "light"
     },
     "output_type": "display_data"
    },
    {
     "name": "stdout",
     "output_type": "stream",
     "text": [
      "For values of best alpha =  0.0001 The train log loss is: 0.48688982919627605\n",
      "For values of best alpha =  0.0001 The cross validation log loss is: 0.4939950557655662\n",
      "For values of best alpha =  0.0001 The test log loss is: 0.48950220875239403\n"
     ]
    }
   ],
   "source": [
    "alpha = [10 ** x for x in range(-5, 1)]\n",
    "\n",
    "cv_log_error_array=[]\n",
    "for i in alpha:\n",
    "    clf = SGDClassifier(alpha=i, penalty='l2', loss='log', random_state=42)\n",
    "    clf.fit(train_x_onehotencoding, y_train)\n",
    "    \n",
    "    sig_clf = CalibratedClassifierCV(clf, method=\"sigmoid\")\n",
    "    sig_clf.fit(train_x_onehotencoding, y_train)\n",
    "    predict_y = sig_clf.predict_proba(cv_x_onehotencoding)\n",
    "    \n",
    "    cv_log_error_array.append(log_loss(y_cv, predict_y, labels=clf.classes_, eps=1e-15))\n",
    "    print('For values of alpha = ', i, \"The log loss is:\",log_loss(y_cv, predict_y, labels=clf.classes_, eps=1e-15))\n",
    "\n",
    "\n",
    "plt.title(\"Cross Validation Error for each alpha\")\n",
    "plt.plot(cv_log_error_array)\n",
    "plt.xlabel(\"Alpha i's\")\n",
    "plt.ylabel(\"Error measure\")\n",
    "plt.show()\n",
    "\n",
    "\n",
    "best_alpha = np.argmin(cv_log_error_array)\n",
    "clf = SGDClassifier(alpha=alpha[best_alpha], penalty='l2', loss='log', random_state=42)\n",
    "clf.fit(train_x_onehotencoding, y_train)\n",
    "sig_clf = CalibratedClassifierCV(clf, method=\"sigmoid\")\n",
    "sig_clf.fit(train_x_onehotencoding, y_train)\n",
    "\n",
    "predict_y = sig_clf.predict_proba(train_x_onehotencoding)\n",
    "print('For values of best alpha = ', alpha[best_alpha], \"The train log loss is:\",log_loss(y_train, predict_y, labels=clf.classes_, eps=1e-15))\n",
    "predict_y = sig_clf.predict_proba(cv_x_onehotencoding)\n",
    "print('For values of best alpha = ', alpha[best_alpha], \"The cross validation log loss is:\",log_loss(y_cv, predict_y, labels=clf.classes_, eps=1e-15))\n",
    "predict_y = sig_clf.predict_proba(test_x_onehotencoding)\n",
    "print('For values of best alpha = ', alpha[best_alpha], \"The test log loss is:\",log_loss(y_test, predict_y, labels=clf.classes_, eps=1e-15))"
   ]
  },
  {
   "cell_type": "code",
   "execution_count": 44,
   "id": "d4708f1d",
   "metadata": {},
   "outputs": [
    {
     "data": {
      "image/png": "[encoded data removed]",
      "text/plain": [
       "<Figure size 1440x360 with 6 Axes>"
      ]
     },
     "metadata": {
      "needs_background": "light"
     },
     "output_type": "display_data"
    }
   ],
   "source": [
    "y_pred = sig_clf.predict(test_x_onehotencoding)\n",
    "plot_confusion_matrix(y_pred,y_test)"
   ]
  },
  {
   "cell_type": "markdown",
   "id": "067eb26d",
   "metadata": {},
   "source": [
    "## What can we do to improve performance?\n",
    "- Data can be increased.\n",
    "- Class balancing in model can be used.\n",
    "- Features can be developed.\n",
    "- Apart from BOW,TFIDF other form of vectorization can be done. like : Average TFIDf, WORD2VEC, Average WORD2VEC "
   ]
  },
  {
   "cell_type": "markdown",
   "id": "b51bc274",
   "metadata": {},
   "source": [
    "### LINEAR SVM "
   ]
  },
  {
   "cell_type": "code",
   "execution_count": 54,
   "id": "aa6b6c14",
   "metadata": {},
   "outputs": [
    {
     "name": "stdout",
     "output_type": "stream",
     "text": [
      "For values of alpha =  1e-05 The log loss is: 0.5173488613073004\n",
      "For values of alpha =  0.0001 The log loss is: 0.4977879454462298\n",
      "For values of alpha =  0.001 The log loss is: 0.5007574890428629\n",
      "For values of alpha =  0.01 The log loss is: 0.5467274912315229\n",
      "For values of alpha =  0.1 The log loss is: 0.5732224161414154\n",
      "For values of alpha =  1 The log loss is: 0.5831574076878009\n"
     ]
    },
    {
     "data": {
      "image/png": "[encoded data removed]",
      "text/plain": [
       "<Figure size 432x288 with 1 Axes>"
      ]
     },
     "metadata": {
      "needs_background": "light"
     },
     "output_type": "display_data"
    },
    {
     "name": "stdout",
     "output_type": "stream",
     "text": [
      "For values of best alpha =  0.0001 The train log loss is: 0.4909830997605735\n",
      "For values of best alpha =  0.0001 The cross validation log loss is: 0.4977879454462298\n",
      "For values of best alpha =  0.0001 The test log loss is: 0.49335357158669313\n"
     ]
    }
   ],
   "source": [
    "alpha = [10 ** x for x in range(-5, 1)]\n",
    "cv_log_error_array=[]\n",
    "for i in alpha:\n",
    "    clf = SGDClassifier(alpha=i, penalty='l2', loss='hinge', random_state=42)\n",
    "    clf.fit(train_x_onehotencoding, y_train)\n",
    "    \n",
    "    sig_clf = CalibratedClassifierCV(clf, method=\"sigmoid\")\n",
    "    sig_clf.fit(train_x_onehotencoding, y_train)\n",
    "    predict_y = sig_clf.predict_proba(cv_x_onehotencoding)\n",
    "    \n",
    "    cv_log_error_array.append(log_loss(y_cv, predict_y, labels=clf.classes_, eps=1e-15))\n",
    "    print('For values of alpha = ', i, \"The log loss is:\",log_loss(y_cv, predict_y, labels=clf.classes_, eps=1e-15))\n",
    "\n",
    "\n",
    "plt.title(\"Cross Validation Error for each alpha\")\n",
    "plt.plot(cv_log_error_array)\n",
    "plt.xlabel(\"Alpha i's\")\n",
    "plt.ylabel(\"Error measure\")\n",
    "plt.show()\n",
    "\n",
    "\n",
    "best_alpha = np.argmin(cv_log_error_array)\n",
    "clf = SGDClassifier(alpha=alpha[best_alpha], penalty='l2', loss='hinge', random_state=42)\n",
    "clf.fit(train_x_onehotencoding, y_train)\n",
    "sig_clf = CalibratedClassifierCV(clf, method=\"sigmoid\")\n",
    "sig_clf.fit(train_x_onehotencoding, y_train)\n",
    "\n",
    "predict_y = sig_clf.predict_proba(train_x_onehotencoding)\n",
    "print('For values of best alpha = ', alpha[best_alpha], \"The train log loss is:\",log_loss(y_train, predict_y, labels=clf.classes_, eps=1e-15))\n",
    "predict_y = sig_clf.predict_proba(cv_x_onehotencoding)\n",
    "print('For values of best alpha = ', alpha[best_alpha], \"The cross validation log loss is:\",log_loss(y_cv, predict_y, labels=clf.classes_, eps=1e-15))\n",
    "predict_y = sig_clf.predict_proba(test_x_onehotencoding)\n",
    "print('For values of best alpha = ', alpha[best_alpha], \"The test log loss is:\",log_loss(y_test, predict_y, labels=clf.classes_, eps=1e-15))"
   ]
  },
  {
   "cell_type": "code",
   "execution_count": 55,
   "id": "d0016e1a",
   "metadata": {},
   "outputs": [
    {
     "data": {
      "image/png": "[encoded data removed]",
      "text/plain": [
       "<Figure size 1440x360 with 6 Axes>"
      ]
     },
     "metadata": {
      "needs_background": "light"
     },
     "output_type": "display_data"
    }
   ],
   "source": [
    "y_pred = sig_clf.predict(test_x_onehotencoding)\n",
    "plot_confusion_matrix(y_pred,y_test)"
   ]
  },
  {
   "cell_type": "markdown",
   "id": "0be9a452",
   "metadata": {},
   "source": [
    "since logistic regression and svm are high bias model. to check if it suffer from __under fitting__\n",
    "only way is to train data in Complex model.\n",
    "As, dimension is not much large __<1000__\n",
    "so Tree based model can be a hope<br>\n",
    "\n",
    "##### Some models that might works are: <br>\n",
    "    - Random Forest\n",
    "    - XGBoost"
   ]
  },
  {
   "cell_type": "markdown",
   "id": "4330f263",
   "metadata": {},
   "source": [
    "### Random Forest"
   ]
  },
  {
   "cell_type": "code",
   "execution_count": 56,
   "id": "92f41a06",
   "metadata": {},
   "outputs": [
    {
     "name": "stdout",
     "output_type": "stream",
     "text": [
      "for n_estimators = 100 and max depth =  5\n",
      "Log Loss : 0.4962303380194847\n",
      "for n_estimators = 100 and max depth =  10\n",
      "Log Loss : 0.47757968963752584\n",
      "for n_estimators = 200 and max depth =  5\n",
      "Log Loss : 0.4953417485535654\n",
      "for n_estimators = 200 and max depth =  10\n",
      "Log Loss : 0.47595228520133304\n",
      "for n_estimators = 500 and max depth =  5\n",
      "Log Loss : 0.4922688388663624\n",
      "for n_estimators = 500 and max depth =  10\n",
      "Log Loss : 0.4742902931351147\n"
     ]
    }
   ],
   "source": [
    "from sklearn.ensemble import RandomForestClassifier\n",
    "# hyper parameter for forest are \n",
    "# - Depth\n",
    "# - no of models built\n",
    "\n",
    "train_x_onehotencoding = train_x_onehotencoding[:10000]\n",
    "test_x_onehotencoding = test_x_onehotencoding[:10000]\n",
    "cv_x_onehotencoding = cv_x_onehotencoding[:10000]\n",
    "\n",
    "y_train = y_train[:10000]\n",
    "y_test = y_test[:10000]\n",
    "y_cv = y_cv[:10000]\n",
    "\n",
    "alpha = [100,200,500]\n",
    "max_depth = [5, 10]\n",
    "cv_log_error_array = []\n",
    "for i in alpha:\n",
    "    for j in max_depth:\n",
    "        print(\"for n_estimators =\", i,\"and max depth = \", j)\n",
    "        clf = RandomForestClassifier(n_estimators=i, criterion='gini', max_depth=j, random_state=42, n_jobs=-1)\n",
    "        clf.fit(train_x_onehotencoding, y_train)\n",
    "        sig_clf = CalibratedClassifierCV(clf, method=\"sigmoid\")\n",
    "        sig_clf.fit(train_x_onehotencoding, y_train)\n",
    "        sig_clf_probs = sig_clf.predict_proba(cv_x_onehotencoding)\n",
    "        cv_log_error_array.append(log_loss(y_cv, sig_clf_probs, labels=clf.classes_, eps=1e-15))\n",
    "        print(\"Log Loss :\",log_loss(y_cv, sig_clf_probs)) \n",
    "\n"
   ]
  },
  {
   "cell_type": "code",
   "execution_count": 61,
   "id": "64eb9ef5",
   "metadata": {},
   "outputs": [
    {
     "name": "stdout",
     "output_type": "stream",
     "text": [
      "For values of best estimator =  500 The train log loss is: 0.4355554412332132\n",
      "For values of best estimator =  500 The cross validation log loss is: 0.4742902931351147\n",
      "For values of best estimator =  500 The test log loss is: 0.4749145116048616\n"
     ]
    }
   ],
   "source": [
    "# testing in best alpha\n",
    "clf = RandomForestClassifier(n_estimators=500, criterion='gini', max_depth=10, random_state=42, n_jobs=-1)\n",
    "clf.fit(train_x_onehotencoding, y_train)\n",
    "sig_clf = CalibratedClassifierCV(clf, method=\"sigmoid\")\n",
    "sig_clf.fit(train_x_onehotencoding, y_train)\n",
    "\n",
    "predict_y = sig_clf.predict_proba(train_x_onehotencoding)\n",
    "print('For values of best estimator = ',500, \n",
    "      \"The train log loss is:\",log_loss(y_train, predict_y, \n",
    "                labels=clf.classes_, eps=1e-15))\n",
    "predict_y = sig_clf.predict_proba(cv_x_onehotencoding)\n",
    "print('For values of best estimator = ', 500, \n",
    "      \"The cross validation log loss is:\",log_loss(y_cv, predict_y, \n",
    "                labels=clf.classes_, eps=1e-15))\n",
    "predict_y = sig_clf.predict_proba(test_x_onehotencoding)\n",
    "print('For values of best estimator = ', 500, \n",
    "      \"The test log loss is:\",log_loss(y_test, predict_y, \n",
    "                labels=clf.classes_, eps=1e-15))"
   ]
  },
  {
   "cell_type": "code",
   "execution_count": 63,
   "id": "be293f9c",
   "metadata": {},
   "outputs": [
    {
     "data": {
      "image/png": "[encoded data removed]",
      "text/plain": [
       "<Figure size 1440x360 with 6 Axes>"
      ]
     },
     "metadata": {
      "needs_background": "light"
     },
     "output_type": "display_data"
    }
   ],
   "source": [
    "y_pred = sig_clf.predict(test_x_onehotencoding)\n",
    "plot_confusion_matrix(y_test,y_pred)"
   ]
  },
  {
   "cell_type": "markdown",
   "id": "e4b5f0bd",
   "metadata": {},
   "source": [
    "__CONCLUSION__:<br>\n",
    "\n",
    "- If we use more data,then loss might decrease while using Random Forest.\n",
    "- If Model like __XGBOOST__,__ADABOOST__ is used loss might decrease significantly.\n",
    "- Due to the hardware requirement, we are not able to perform in large data as it might take days.\n",
    "    \n",
    "    also,\n",
    "- __Hyperparameter tuning__ is done on small set. If we are able to play with those loss can be decreases.\n",
    "- As per now, there is possibility of logistic and SVM are underfitting : __HIGH BAIS__\n",
    "\n",
    "__TIPS TO INCREASE PERFORMANCE__ <br>\n",
    "- Increase Data.\n",
    "- Use High Varience Model.: __XGBOOST__\n",
    "- __Hyperparameter tuning__ in large set of values.\n",
    "- Feature data with other technique.\n",
    "    - some that might work are \n",
    "        - subsequence ratio.\n",
    "        - n-grams.\n",
    "        - Word2Vec.\n",
    "        - Normalize the data"
   ]
  }
 ],
 "metadata": {
  "kernelspec": {
   "display_name": "Python 3 (ipykernel)",
   "language": "python",
   "name": "python3"
  },
  "language_info": {
   "codemirror_mode": {
    "name": "ipython",
    "version": 3
   },
   "file_extension": ".py",
   "mimetype": "text/x-python",
   "name": "python",
   "nbconvert_exporter": "python",
   "pygments_lexer": "ipython3",
   "version": "3.9.2"
  }
 },
 "nbformat": 4,
 "nbformat_minor": 5
}
